{
 "cells": [
  {
   "cell_type": "code",
   "execution_count": 1,
   "id": "14f52750",
   "metadata": {},
   "outputs": [],
   "source": [
    "import climate_job_maintenance as cjm\n",
    "\n",
    "import os \n",
    "import numpy as np\n",
    "'''os.system(\"jupyter nbconvert --to script 'climate_train.ipynb'\")\n",
    "os.system(\"jupyter nbconvert --to script 'climate_data.ipynb'\")\n",
    "os.system(\"jupyter nbconvert --to script 'climate_models.ipynb'\")\n",
    "os.system(\"jupyter nbconvert --to script 'climate_job_maintenance.ipynb'\")\n",
    "'''\n",
    "\n",
    "import climate_train as ct\n",
    "import climate_data\n",
    "import climate_models\n",
    "import climate_job_maintenance as cjm\n",
    "\n",
    "\n",
    "\n"
   ]
  },
  {
   "cell_type": "code",
   "execution_count": 2,
   "id": "b15128ea",
   "metadata": {},
   "outputs": [
    {
     "name": "stdout",
     "output_type": "stream",
     "text": [
      "depth test 0\n",
      "\ttemp\n",
      "\t\tyes - no - \n",
      "\tres\n",
      "\t\tno - yes - \n",
      "\tgeophys\n",
      "\t\tno - yes - \n",
      "\ttraining-depth\n",
      "\t\t0 - 1 - 2 - 3 - 4 - 5 - 6 - \n",
      "\tsigma\n",
      "\t\t4 - 8 - 12 - 16 - \n"
     ]
    }
   ],
   "source": [
    "args=ct.options(string_input=\"-b 3 --depth 1\".split())\n",
    "\n",
    "args.model_id=3\n",
    "args.model_bank_id=\"G\"\n",
    "\n",
    "C,names=climate_models.golden_model_bank(args,only_description=True,verbose=True)"
   ]
  },
  {
   "cell_type": "code",
   "execution_count": 6,
   "id": "45df07be",
   "metadata": {},
   "outputs": [],
   "source": [
    "offset=0\n",
    "x=[[0],[0,1],[1],np.arange(6).tolist(),np.arange(4).tolist()]\n",
    "J=cjm.jobnums(C=C,x=x,offset=offset)"
   ]
  },
  {
   "cell_type": "code",
   "execution_count": 7,
   "id": "f39a297b",
   "metadata": {},
   "outputs": [
    {
     "name": "stdout",
     "output_type": "stream",
     "text": [
      "[4,6,12,14,20,22,28,30,36,38,44,46,60,62,68,70,76,78,84,86,92,94,100,102,116,118,124,126,132,134,140,142,148,150,156,158,172,174,180,182,188,190,196,198,204,206,212,214]\n"
     ]
    },
    {
     "data": {
      "text/plain": [
       "(None, 48)"
      ]
     },
     "execution_count": 7,
     "metadata": {},
     "output_type": "execute_result"
    }
   ],
   "source": [
    "print(str(J).replace(' ','')),len(J)"
   ]
  },
  {
   "cell_type": "code",
   "execution_count": 5,
   "id": "6e467427",
   "metadata": {},
   "outputs": [
    {
     "name": "stdout",
     "output_type": "stream",
     "text": [
      "Hasnt started:\n",
      "[]\n",
      "Hasnt finished:\n",
      "[]\n",
      "Nan:\n",
      "[]\n",
      "Needs eval:\n",
      "[]\n",
      "Done eval:\n",
      "[4,6,12,14,20,22,28,30,36,38,44,46,60,62,68,70,76,78,84,86,92,94,100,102,116,118,124,126,132,134,140,142,148,150,156,158,172,174,180,182,188,190,196,198,204,206,212,214]\n",
      "Late eval job:\n",
      "[]\n",
      "Needs grad-probe:\n",
      "[4,6,12,14,20,22,28,30,36,38,44,46,60,62,68,70,76,78,84,86,92,94,100,102,116,118,124,126,132,134,140,142,148,150,156,158,172,174,180,182,188,190,196,198,204,206,212,214]\n",
      "Done rad-probe:\n",
      "[]\n"
     ]
    }
   ],
   "source": [
    "cjm.report_progress(C,x,offset=offset)"
   ]
  },
  {
   "cell_type": "code",
   "execution_count": null,
   "id": "f6cc8445",
   "metadata": {},
   "outputs": [],
   "source": [
    "'''cjm.configure_models(J)'''"
   ]
  },
  {
   "cell_type": "code",
   "execution_count": 8,
   "id": "865df014",
   "metadata": {},
   "outputs": [
    {
     "name": "stdout",
     "output_type": "stream",
     "text": [
      "depth test 0\n",
      "\ttemp\n",
      "\t\tyes - no - \n",
      "\tres\n",
      "\t\tno - yes - \n",
      "\tgeophys\n",
      "\t\tno - yes - \n",
      "\ttraining-depth\n",
      "\t\t0 - 1 - 2 - 3 - 4 - 5 - 6 - \n",
      "\tsigma\n",
      "\t\t4 - 8 - 12 - 16 - \n"
     ]
    }
   ],
   "source": [
    "args=ct.options(string_input=\"-b 3 --depth 1\".split())\n",
    "\n",
    "args.model_id=4\n",
    "args.model_bank_id=\"G\"\n",
    "\n",
    "C,names=climate_models.golden_model_bank(args,only_description=True,verbose=True)"
   ]
  },
  {
   "cell_type": "code",
   "execution_count": 12,
   "id": "5f540602",
   "metadata": {},
   "outputs": [],
   "source": [
    "import torch"
   ]
  },
  {
   "cell_type": "code",
   "execution_count": 10,
   "id": "c5f9340a",
   "metadata": {},
   "outputs": [
    {
     "name": "stdout",
     "output_type": "stream",
     "text": [
      "LCNN + 21x21 + deep (5m) + glbl + lat + coarse(4) + batch= 2\n"
     ]
    },
    {
     "name": "stderr",
     "output_type": "stream",
     "text": [
      "/ext3/miniconda3/lib/python3.8/site-packages/torch/cuda/__init__.py:52: UserWarning: CUDA initialization: Found no NVIDIA driver on your system. Please check that you have an NVIDIA GPU and installed a driver from http://www.nvidia.com/Download/index.aspx (Triggered internally at  /pytorch/c10/cuda/CUDAFunctions.cpp:100.)\n",
      "  return torch._C._cuda_getDeviceCount() > 0\n"
     ]
    },
    {
     "name": "stdout",
     "output_type": "stream",
     "text": [
      "domain id: 3\n",
      "Loaded the existing model\n"
     ]
    }
   ],
   "source": [
    "net,criterion,(data_init,partition),logs,(PATH0,PATH1,LOG,root)=ct.load_from_save(args)\n",
    "(training_set,training_generator),(val_set,val_generator),(test_set,test_generator),(dataset,glbl_gen)=ct.load_data(data_init,partition,args)\n",
    "residue_flag=dataset.outputs[0]=='Su_r'\n",
    "if residue_flag:\n",
    "    numoutputs=len(dataset.outputs)\n",
    "    dataset.outputs+=[ss.replace('_r','') for ss in dataset.outputs]\n",
    "    dataset.outscales=dataset.outscales*2\n",
    "if isinstance(net, climate_models.RegressionModel):\n",
    "    w=linear_model_fit(root)\n",
    "device=ct.get_device()\n",
    "net.eval()\n",
    "if args.co2:\n",
    "    MSELOC=root+'/MSE-co2.npy'\n",
    "    SC2LOC=root+'/SC2-co2.npy'\n",
    "else:\n",
    "    MSELOC=root+'/MSE.npy'\n",
    "    SC2LOC=root+'/SC2.npy'"
   ]
  },
  {
   "cell_type": "code",
   "execution_count": 13,
   "id": "c0836b34",
   "metadata": {},
   "outputs": [
    {
     "name": "stdout",
     "output_type": "stream",
     "text": [
      "/scratch/cg3306/climate/runs/G-4/MSE-depth-depth.npy\n"
     ]
    }
   ],
   "source": [
    "spread=net.spread\n",
    "noutsig=net.outwidth\n",
    "\n",
    "\n",
    "\n",
    "if args.depth:\n",
    "    MSELOC=MSELOC.replace('.npy','-depth.npy')\n",
    "    SC2LOC=SC2LOC.replace('.npy','-depth.npy')\n",
    "    numdepths=len(training_set.depthvals)\n",
    "else:\n",
    "    numdepths=1\n",
    "\n",
    "MSE=torch.zeros(numdepths,noutsig,dataset.dimens[0]-spread*2, dataset.dimens[1]-spread*2)\n",
    "#LIKE=torch.zeros(noutsig,dataset.dimens[0]-spread*2, dataset.dimens[1]-spread*2)\n",
    "SC2=torch.zeros(numdepths,noutsig,dataset.dimens[0]-spread*2, dataset.dimens[1]-spread*2)\n",
    "print(MSELOC)\n",
    "arr=np.arange(len(dataset))\n",
    "np.random.shuffle(arr)"
   ]
  },
  {
   "cell_type": "code",
   "execution_count": 16,
   "id": "ee2cbe8c",
   "metadata": {},
   "outputs": [],
   "source": [
    "depthind=0\n",
    "training_set.depthind=depthind\n",
    "insc,outsc=training_set.compute_scales()\n",
    "insc,outsc=np.reshape(insc,[-1,1,1]),np.reshape(outsc,[-1,1,1])"
   ]
  },
  {
   "cell_type": "code",
   "execution_count": 18,
   "id": "b6001fb2",
   "metadata": {},
   "outputs": [],
   "source": [
    "i=0"
   ]
  },
  {
   "cell_type": "code",
   "execution_count": 53,
   "id": "eee70078",
   "metadata": {},
   "outputs": [],
   "source": [
    "uv,Sxy=dataset.input_output(arr[i],scale=False,periodic_lon_expand=True)\n",
    "uv[:insc.shape[0]]=uv[:insc.shape[0]]/insc\n",
    "Sxy[:outsc.shape[0]]=Sxy[:outsc.shape[0]]/outsc\n",
    "uv[uv!=uv]=0\n",
    "Sxy[Sxy!=Sxy]=0\n",
    "#"
   ]
  },
  {
   "cell_type": "code",
   "execution_count": 54,
   "id": "e8cbe0e1",
   "metadata": {},
   "outputs": [
    {
     "data": {
      "text/plain": [
       "(torch.Size([5, 645, 920]), torch.Size([3, 625, 900]))"
      ]
     },
     "execution_count": 54,
     "metadata": {},
     "output_type": "execute_result"
    }
   ],
   "source": [
    "uv.shape,Sxy.shape"
   ]
  },
  {
   "cell_type": "code",
   "execution_count": 55,
   "id": "d4101db4",
   "metadata": {},
   "outputs": [],
   "source": [
    "uv_,Sxy_=dataset.pad_with_zero(uv,0),dataset.pad_with_zero(Sxy,dataset.spread)"
   ]
  },
  {
   "cell_type": "code",
   "execution_count": 56,
   "id": "71f66a0c",
   "metadata": {},
   "outputs": [
    {
     "data": {
      "text/plain": [
       "torch.Size([5, 645, 920])"
      ]
     },
     "execution_count": 56,
     "metadata": {},
     "output_type": "execute_result"
    }
   ],
   "source": [
    "uv_.shape"
   ]
  },
  {
   "cell_type": "code",
   "execution_count": 60,
   "id": "ea51ca3d",
   "metadata": {},
   "outputs": [
    {
     "data": {
      "text/plain": [
       "<matplotlib.image.AxesImage at 0x7f6e443b7f10>"
      ]
     },
     "execution_count": 60,
     "metadata": {},
     "output_type": "execute_result"
    },
    {
     "data": {
      "image/png": "[encoded data removed]",
      "text/plain": [
       "<Figure size 432x288 with 1 Axes>"
      ]
     },
     "metadata": {
      "needs_background": "light"
     },
     "output_type": "display_data"
    }
   ],
   "source": [
    "plt.imshow(uv_[4])"
   ]
  },
  {
   "cell_type": "code",
   "execution_count": null,
   "id": "df9eaf54",
   "metadata": {},
   "outputs": [],
   "source": [
    "for di in range(len(dataset)*numdepths):\n",
    "    i=di%len(dataset)\n",
    "    depthind=di//len(dataset)\n",
    "    if args.depth:\n",
    "        dataset.depthind=depthind\n",
    "        uv,Sxy=dataset.input_output(arr[i],scale=False)\n",
    "        if i==0:\n",
    "            training_set.depthind=depthind\n",
    "            insc,outsc=training_set.compute_scales()\n",
    "            insc,outsc=np.reshape(insc,[-1,1,1]),np.reshape(outsc,[-1,1,1])\n",
    "            if residue_flag:\n",
    "                outsc=np.concatenate([outsc,outsc],axis=0)\n",
    "        uv[:insc.shape[0]]=uv[:insc.shape[0]]/insc\n",
    "        Sxy[:outsc.shape[0]]=Sxy[:outsc.shape[0]]/outsc\n",
    "        uv[uv!=uv]=0\n",
    "        Sxy[Sxy!=Sxy]=0\n",
    "        uv,Sxy=dataset.pad_with_zero(uv,0),dataset.pad_with_zero(Sxy,dataset.spread)\n",
    "    else:\n",
    "        uv,_,Sxy=dataset[arr[i]]\n",
    "    if residue_flag:\n",
    "        Sxy1,Sxy=torch.split(Sxy,[numoutputs,numoutputs],dim=0)\n",
    "    uv=torch.stack([uv]).to(device)\n",
    "    #net.set_coarsening(0)\n",
    "    with torch.set_grad_enabled(False):\n",
    "        if isinstance(net, climate_models.RegressionModel):\n",
    "            output=net.forward(uv,w)\n",
    "        else:\n",
    "            output=net.forward(uv)\n",
    "    output=output[0].to(torch.device(\"cpu\"))\n",
    "    output,prec,_=torch.split(output,[noutsig,net.nprecision,output.shape[0]-noutsig-net.nprecision],dim=0)\n",
    "    break"
   ]
  }
 ],
 "metadata": {
  "kernelspec": {
   "display_name": "Python 3",
   "language": "python",
   "name": "python3"
  },
  "language_info": {
   "codemirror_mode": {
    "name": "ipython",
    "version": 3
   },
   "file_extension": ".py",
   "mimetype": "text/x-python",
   "name": "python",
   "nbconvert_exporter": "python",
   "pygments_lexer": "ipython3",
   "version": "3.8.5"
  }
 },
 "nbformat": 4,
 "nbformat_minor": 5
}
