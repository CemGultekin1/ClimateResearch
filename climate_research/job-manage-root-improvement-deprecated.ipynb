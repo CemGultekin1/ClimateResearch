{
 "cells": [
  {
   "cell_type": "code",
   "execution_count": 1,
   "id": "167dd7c6",
   "metadata": {},
   "outputs": [],
   "source": [
    "import climate_job_maintenance as cjm\n",
    "\n",
    "import os \n",
    "import numpy as np\n",
    "'''os.system(\"jupyter nbconvert --to script 'climate_train.ipynb'\")\n",
    "os.system(\"jupyter nbconvert --to script 'climate_data.ipynb'\")\n",
    "os.system(\"jupyter nbconvert --to script 'climate_models.ipynb'\")\n",
    "os.system(\"jupyter nbconvert --to script 'climate_job_maintenance.ipynb'\")'''\n",
    "\n",
    "import climate_train as ct\n",
    "import climate_data\n",
    "import climate_models\n",
    "import climate_job_maintenance as cjm\n",
    "\n",
    "\n"
   ]
  },
  {
   "cell_type": "code",
   "execution_count": 2,
   "id": "bd1f84f5",
   "metadata": {},
   "outputs": [],
   "source": [
    "args=ct.options(string_input=\"-b 3\".split())"
   ]
  },
  {
   "cell_type": "code",
   "execution_count": 5,
   "id": "3cfbe353",
   "metadata": {
    "scrolled": true
   },
   "outputs": [
    {
     "name": "stdout",
     "output_type": "stream",
     "text": [
      "root improvement 9000\n",
      "\ttemp\n",
      "\t\tno - yes - \n",
      "\tglobal\n",
      "\t\tno - yes - \n",
      "\tres\n",
      "\t\tno - yes - \n",
      "\tgeophys\n",
      "\t\tno - yes - \n",
      "\tsigma\n",
      "\t\t4 - 8 - 12 - 16 - \n"
     ]
    }
   ],
   "source": [
    "args.model_id=9000\n",
    "args.model_bank_id=\"G\"\n",
    "offset=9000\n",
    "C,names=climate_models.golden_model_bank(args,only_description=True,verbose=True)"
   ]
  },
  {
   "cell_type": "code",
   "execution_count": 6,
   "id": "84b757d8",
   "metadata": {},
   "outputs": [],
   "source": [
    "x=[[1],[1],[0,1],[0],np.arange(4)]\n",
    "J=cjm.jobnums(C=C,x=x,offset=offset)"
   ]
  },
  {
   "cell_type": "code",
   "execution_count": 7,
   "id": "77cc6eab",
   "metadata": {},
   "outputs": [
    {
     "name": "stdout",
     "output_type": "stream",
     "text": [
      "[9003,9007,9019,9023,9035,9039,9051,9055]\n"
     ]
    }
   ],
   "source": [
    "print(str(J).replace(' ',''))"
   ]
  },
  {
   "cell_type": "code",
   "execution_count": 13,
   "id": "05d4e948",
   "metadata": {},
   "outputs": [],
   "source": [
    "offset=9000\n",
    "\n",
    "\n",
    "x=[[0],[0],[0],[0],np.arange(4)]\n",
    "J=cjm.jobnums(C=C,x=x,offset=offset)\n",
    "J=[]\n",
    "\n",
    "x=[[0],[1],[0],[0,1],np.arange(4)]\n",
    "J+=cjm.jobnums(C=C,x=x,offset=offset)\n",
    "\n",
    "x=[[1],[1],[0,1],[0],np.arange(4)]\n",
    "J+=cjm.jobnums(C=C,x=x,offset=offset)"
   ]
  },
  {
   "cell_type": "code",
   "execution_count": 14,
   "id": "ca58b472",
   "metadata": {},
   "outputs": [
    {
     "name": "stdout",
     "output_type": "stream",
     "text": [
      "[9002,9010,9018,9026,9034,9042,9050,9058,9003,9007,9019,9023,9035,9039,9051,9055]\n"
     ]
    }
   ],
   "source": [
    "print(str(J).replace(' ',''))"
   ]
  },
  {
   "cell_type": "code",
   "execution_count": null,
   "id": "404374e8",
   "metadata": {},
   "outputs": [],
   "source": []
  },
  {
   "cell_type": "code",
   "execution_count": 15,
   "id": "742b76c7",
   "metadata": {},
   "outputs": [
    {
     "name": "stdout",
     "output_type": "stream",
     "text": [
      "Hasnt started:\n",
      "[9016,9032,9048]\n",
      "Hasnt finished:\n",
      "[9000]\n",
      "Nan:\n",
      "[]\n",
      "Needs eval:\n",
      "[]\n",
      "Done eval:\n",
      "[]\n",
      "Late eval job:\n",
      "[]\n",
      "Needs grad-probe:\n",
      "[]\n",
      "Done rad-probe:\n",
      "[]\n"
     ]
    }
   ],
   "source": [
    "x=[[0],[0],[0],[0],np.arange(4)]\n",
    "cjm.report_progress(C=C,x=x,offset=9000) "
   ]
  },
  {
   "cell_type": "code",
   "execution_count": 10,
   "id": "58093ca1",
   "metadata": {},
   "outputs": [
    {
     "name": "stdout",
     "output_type": "stream",
     "text": [
      "Hasnt started:\n",
      "[]\n",
      "Hasnt finished:\n",
      "[9010]\n",
      "Nan:\n",
      "[]\n",
      "Needs eval:\n",
      "[9002,9502]\n",
      "Done eval:\n",
      "[9018,9026,9034,9042,9050,9058]\n",
      "Late eval job:\n",
      "[9010,9510]\n",
      "Needs grad-probe:\n",
      "[9002,9018,9026,9034,9042,9050,9058]\n",
      "Done rad-probe:\n",
      "[]\n"
     ]
    }
   ],
   "source": [
    "x=[[0],[1],[0],[0,1],np.arange(4)]\n",
    "cjm.report_progress(C=C,x=x,offset=9000) "
   ]
  },
  {
   "cell_type": "code",
   "execution_count": 16,
   "id": "99db76f3",
   "metadata": {
    "scrolled": true
   },
   "outputs": [
    {
     "name": "stdout",
     "output_type": "stream",
     "text": [
      "Hasnt started:\n",
      "[]\n",
      "Hasnt finished:\n",
      "[9003]\n",
      "Nan:\n",
      "[]\n",
      "Needs eval:\n",
      "[]\n",
      "Done eval:\n",
      "[9007,9019,9023,9035,9039,9051,9055]\n",
      "Late eval job:\n",
      "[]\n",
      "Needs grad-probe:\n",
      "[9007,9019,9023,9035,9039,9051,9055]\n",
      "Done rad-probe:\n",
      "[]\n"
     ]
    }
   ],
   "source": [
    "#cjm.configure_models(J)\n",
    "\n",
    "x=[[1],[1],[0,1],[0],np.arange(4)]\n",
    "cjm.report_progress(C=C,x=x,offset=9000)"
   ]
  },
  {
   "cell_type": "code",
   "execution_count": 12,
   "id": "f53b2ebd",
   "metadata": {},
   "outputs": [
    {
     "name": "stdout",
     "output_type": "stream",
     "text": [
      "Hasnt started:\n",
      "[]\n",
      "Hasnt finished:\n",
      "[]\n",
      "Nan:\n",
      "[]\n",
      "Needs eval:\n",
      "[9019,9023,9035,9039,9051,9055,9519,9523,9535,9539,9551,9555]\n",
      "Done eval:\n",
      "[]\n",
      "Late eval job:\n",
      "[]\n",
      "Needs grad-probe:\n",
      "[9019,9023,9035,9039,9051,9055]\n",
      "Done rad-probe:\n",
      "[]\n"
     ]
    }
   ],
   "source": [
    "#cjm.configure_models(J)\n",
    "\n",
    "x=[[1],[1],[0,1],[0],np.arange(1,4)]\n",
    "cjm.report_progress(C=C,x=x,offset=9000)"
   ]
  },
  {
   "cell_type": "code",
   "execution_count": 9,
   "id": "b5e24b2d",
   "metadata": {},
   "outputs": [
    {
     "name": "stdout",
     "output_type": "stream",
     "text": [
      "Hasnt started:\n",
      "[]\n",
      "Hasnt finished:\n",
      "[9003]\n",
      "Nan:\n",
      "[]\n",
      "Needs eval:\n",
      "[9007,9507]\n",
      "Done eval:\n",
      "[]\n",
      "Late eval job:\n",
      "[9003,9503]\n",
      "Needs grad-probe:\n",
      "[9007]\n",
      "Done rad-probe:\n",
      "[]\n"
     ]
    }
   ],
   "source": [
    "x=[[1],[1],[0,1],[0]]\n",
    "cjm.report_progress(C=C,x=x,offset=9000)"
   ]
  },
  {
   "cell_type": "code",
   "execution_count": 4,
   "id": "a12aa9a3",
   "metadata": {},
   "outputs": [
    {
     "name": "stdout",
     "output_type": "stream",
     "text": [
      "depth test 0\n",
      "\ttemp\n",
      "\t\tyes - no - \n",
      "\tres\n",
      "\t\tno - yes - \n",
      "\tgeophys\n",
      "\t\tno - yes - \n",
      "\ttraining-depth\n",
      "\t\t0 - 1 - 2 - 3 - 4 - 5 - 6 - \n",
      "\tsigma\n",
      "\t\t4 - 8 - 12 - 16 - \n"
     ]
    }
   ],
   "source": [
    "args=ct.options(string_input=\"-b 3 --depth 1\".split())\n",
    "\n",
    "args.model_id=3\n",
    "args.model_bank_id=\"G\"\n",
    "\n",
    "C,names=climate_models.golden_model_bank(args,only_description=True,verbose=True)"
   ]
  },
  {
   "cell_type": "code",
   "execution_count": 5,
   "id": "03551319",
   "metadata": {},
   "outputs": [],
   "source": [
    "offset=0\n",
    "x=[[1],[0,1],[0],np.arange(6).tolist(),[0,2]]\n",
    "J=cjm.jobnums(C=C,x=x,offset=offset)"
   ]
  },
  {
   "cell_type": "code",
   "execution_count": 6,
   "id": "81539706",
   "metadata": {},
   "outputs": [
    {
     "name": "stdout",
     "output_type": "stream",
     "text": [
      "[1,3,9,11,17,19,25,27,33,35,41,43,113,115,121,123,129,131,137,139,145,147,153,155]\n"
     ]
    }
   ],
   "source": [
    "print(str(J).replace(' ',''))"
   ]
  },
  {
   "cell_type": "code",
   "execution_count": 7,
   "id": "535897cc",
   "metadata": {},
   "outputs": [
    {
     "name": "stdout",
     "output_type": "stream",
     "text": [
      "Hasnt started:\n",
      "[]\n",
      "Hasnt finished:\n",
      "[43]\n",
      "Nan:\n",
      "[]\n",
      "Needs eval:\n",
      "[1,3,9,11,17,19,25,27,33,35,41,43,113,115,121,123,129,131,137,139,145,147,153,155,501,503,509,511,517,519,525,527,533,535,541,543,613,615,621,623,629,631,637,639,645,647,653,655]\n",
      "Done eval:\n",
      "[]\n",
      "Late eval job:\n",
      "[]\n",
      "Needs grad-probe:\n",
      "[1,3,9,11,17,19,25,27,33,35,41,43,113,115,121,123,129,131,137,139,145,147,153,155]\n",
      "Done rad-probe:\n",
      "[]\n"
     ]
    }
   ],
   "source": [
    "cjm.report_progress(C,x,offset=offset)"
   ]
  },
  {
   "cell_type": "code",
   "execution_count": null,
   "id": "e5c71d11",
   "metadata": {},
   "outputs": [],
   "source": []
  }
 ],
 "metadata": {
  "kernelspec": {
   "display_name": "Python 3",
   "language": "python",
   "name": "python3"
  },
  "language_info": {
   "codemirror_mode": {
    "name": "ipython",
    "version": 3
   },
   "file_extension": ".py",
   "mimetype": "text/x-python",
   "name": "python",
   "nbconvert_exporter": "python",
   "pygments_lexer": "ipython3",
   "version": "3.8.5"
  }
 },
 "nbformat": 4,
 "nbformat_minor": 5
}
