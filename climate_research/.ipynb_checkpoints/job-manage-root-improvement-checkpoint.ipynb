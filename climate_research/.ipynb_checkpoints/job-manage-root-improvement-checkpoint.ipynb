{
 "cells": [
  {
   "cell_type": "code",
   "execution_count": 1,
   "id": "501c9f5e",
   "metadata": {},
   "outputs": [],
   "source": [
    "import climate_job_maintenance as cjm\n",
    "\n",
    "import os \n",
    "import numpy as np\n",
    "'''os.system(\"jupyter nbconvert --to script 'climate_train.ipynb'\")\n",
    "os.system(\"jupyter nbconvert --to script 'climate_data.ipynb'\")'''\n",
    "#os.system(\"jupyter nbconvert --to script 'climate_models.ipynb'\")\n",
    "#os.system(\"jupyter nbconvert --to script 'climate_job_maintenance.ipynb'\")\n",
    "\n",
    "import climate_train as ct\n",
    "import climate_data\n",
    "import climate_models\n",
    "import climate_job_maintenance as cjm"
   ]
  },
  {
   "cell_type": "code",
   "execution_count": 2,
   "id": "f5e2f285",
   "metadata": {},
   "outputs": [
    {
     "name": "stdout",
     "output_type": "stream",
     "text": [
      "root improvement 3000\n",
      "\ttemp\n",
      "\t\tno - yes - \n",
      "\tglobal\n",
      "\t\tno - yes - \n",
      "\tres\n",
      "\t\tno - yes - \n",
      "\tgeophys\n",
      "\t\tno - yes - \n",
      "\tsigma\n",
      "\t\t4 - 8 - 12 - 16 - \n"
     ]
    }
   ],
   "source": [
    "args=ct.options(string_input=\"-b 3 --depth 1\".split())\n",
    "\n",
    "args.model_id=3000\n",
    "args.model_bank_id=\"G\"\n",
    "\n",
    "C,names=climate_models.golden_model_bank(args,only_description=True,verbose=True)"
   ]
  },
  {
   "cell_type": "code",
   "execution_count": 3,
   "id": "a5e7e7c8",
   "metadata": {},
   "outputs": [],
   "source": [
    "offset=3000\n",
    "#testing global or 4reg training\n",
    "x=[[0,1],[0,1],[0],[0],np.arange(4).tolist()]\n",
    "J=cjm.jobnums(C=C,x=x,offset=offset)\n",
    "\n",
    "#testing res\n",
    "x=[[1],[1],[0,1],[1],np.arange(4).tolist()]\n",
    "J+=cjm.jobnums(C=C,x=x,offset=offset)\n",
    "#cjm.configure_models(J)"
   ]
  },
  {
   "cell_type": "code",
   "execution_count": 4,
   "id": "f15f6f37",
   "metadata": {},
   "outputs": [],
   "source": [
    "x=[[0,1],[0,1],[0],[0],np.arange(1).tolist()]\n",
    "J=cjm.jobnums(C=C,x=x,offset=offset)\n",
    "\n",
    "x=[[1],[1],[0,1],[1],np.arange(1).tolist()]\n",
    "J+=cjm.jobnums(C=C,x=x,offset=offset)"
   ]
  },
  {
   "cell_type": "code",
   "execution_count": 5,
   "id": "06556950",
   "metadata": {},
   "outputs": [
    {
     "data": {
      "text/plain": [
       "[3000, 3001, 3002, 3003, 3011, 3015]"
      ]
     },
     "execution_count": 5,
     "metadata": {},
     "output_type": "execute_result"
    }
   ],
   "source": [
    "J"
   ]
  },
  {
   "cell_type": "code",
   "execution_count": 6,
   "id": "f336754e",
   "metadata": {},
   "outputs": [
    {
     "name": "stdout",
     "output_type": "stream",
     "text": [
      "[3000,3001,3002,3003,3011,3015]\n"
     ]
    },
    {
     "data": {
      "text/plain": [
       "(None, 6)"
      ]
     },
     "execution_count": 6,
     "metadata": {},
     "output_type": "execute_result"
    }
   ],
   "source": [
    "print(str(J).replace(' ','')),len(J)"
   ]
  },
  {
   "cell_type": "code",
   "execution_count": 8,
   "id": "a45a6fd5",
   "metadata": {
    "scrolled": true
   },
   "outputs": [
    {
     "name": "stdout",
     "output_type": "stream",
     "text": [
      "Hasnt started:\n",
      "[]\n",
      "Hasnt finished:\n",
      "[3002,3003]\n",
      "Nan:\n",
      "[]\n",
      "Needs eval:\n",
      "[]\n",
      "Done eval:\n",
      "[3000,3001]\n",
      "Late eval job:\n",
      "[]\n",
      "Needs grad-probe:\n",
      "[3000,3001]\n",
      "Done rad-probe:\n",
      "[]\n"
     ]
    }
   ],
   "source": [
    "x=[[0,1],[0,1],[0],[0],np.arange(1).tolist()]\n",
    "cjm.report_progress(C,x,offset=offset)"
   ]
  },
  {
   "cell_type": "code",
   "execution_count": 7,
   "id": "b567914d",
   "metadata": {},
   "outputs": [
    {
     "name": "stdout",
     "output_type": "stream",
     "text": [
      "Hasnt started:\n",
      "[]\n",
      "Hasnt finished:\n",
      "[3011]\n",
      "Nan:\n",
      "[]\n",
      "Needs eval:\n",
      "[]\n",
      "Done eval:\n",
      "[3015,3027,3031,3043,3047,3059,3063]\n",
      "Late eval job:\n",
      "[3011,3511]\n",
      "Needs grad-probe:\n",
      "[3015,3027,3031,3043,3047,3059,3063]\n",
      "Done rad-probe:\n",
      "[]\n"
     ]
    }
   ],
   "source": [
    "x=[[1],[1],[0,1],[1],np.arange(4).tolist()]\n",
    "cjm.report_progress(C,x,offset=offset)"
   ]
  },
  {
   "cell_type": "code",
   "execution_count": null,
   "id": "88d9cf07",
   "metadata": {},
   "outputs": [],
   "source": [
    "'''cjm.report_progress(C,x,offset=offset)'''"
   ]
  }
 ],
 "metadata": {
  "kernelspec": {
   "display_name": "Python 3",
   "language": "python",
   "name": "python3"
  },
  "language_info": {
   "codemirror_mode": {
    "name": "ipython",
    "version": 3
   },
   "file_extension": ".py",
   "mimetype": "text/x-python",
   "name": "python",
   "nbconvert_exporter": "python",
   "pygments_lexer": "ipython3",
   "version": "3.8.5"
  }
 },
 "nbformat": 4,
 "nbformat_minor": 5
}
