{
 "cells": [
  {
   "cell_type": "code",
   "execution_count": 8,
   "id": "88fc78c8",
   "metadata": {},
   "outputs": [],
   "source": [
    "import climate_job_maintenance as cjm\n",
    "import os \n",
    "import numpy as np\n",
    "# os.system(\"jupyter nbconvert --to script 'climate_train.ipynb'\")\n",
    "# os.system(\"jupyter nbconvert --to script 'climate_data.ipynb'\")\n",
    "# os.system(\"jupyter nbconvert --to script 'climate_models.ipynb'\")\n",
    "# os.system(\"jupyter nbconvert --to script 'climate_job_maintenance.ipynb'\")\n",
    "import climate_train as ct\n",
    "import climate_data\n",
    "import climate_models\n",
    "import climate_job_maintenance as cjm\n",
    "import torch\n",
    "import matplotlib.pyplot as plt"
   ]
  },
  {
   "cell_type": "code",
   "execution_count": 3,
   "id": "a42cc7d7",
   "metadata": {},
   "outputs": [],
   "source": [
    "args=ct.options(string_input=\"-b 3\".split())\n",
    "offset=0\n",
    "args.model_id=1\n",
    "args.model_bank_id=\"G\"\n",
    "args.depth=1"
   ]
  },
  {
   "cell_type": "code",
   "execution_count": 6,
   "id": "a5ba53d8",
   "metadata": {
    "scrolled": true
   },
   "outputs": [
    {
     "name": "stdout",
     "output_type": "stream",
     "text": [
      "LCNN + 21x21 + deep (5m) + glbl + coarse(4) + batch= 2\n"
     ]
    },
    {
     "name": "stderr",
     "output_type": "stream",
     "text": [
      "/ext3/miniconda3/lib/python3.8/site-packages/torch/cuda/__init__.py:52: UserWarning: CUDA initialization: Found no NVIDIA driver on your system. Please check that you have an NVIDIA GPU and installed a driver from http://www.nvidia.com/Download/index.aspx (Triggered internally at  /pytorch/c10/cuda/CUDAFunctions.cpp:100.)\n",
      "  return torch._C._cuda_getDeviceCount() > 0\n"
     ]
    },
    {
     "name": "stdout",
     "output_type": "stream",
     "text": [
      "domain id: 3\n",
      "Loaded the existing model\n"
     ]
    }
   ],
   "source": [
    "net,criterion,(data_init,partition),logs,(PATH0,PATH1,LOG,root)=ct.load_from_save(args)\n",
    "(training_set,training_generator),(val_set,val_generator),(test_set,test_generator),(dataset,glbl_gen)=ct.load_data(data_init,partition,args)\n",
    "residue_flag=dataset.outputs[0]=='Su_r'\n",
    "if residue_flag:\n",
    "    numoutputs=len(dataset.outputs)\n",
    "    dataset.outputs+=[ss.replace('_r','') for ss in dataset.outputs]\n",
    "    dataset.outscales=dataset.outscales*2\n",
    "if isinstance(net, climate_models.RegressionModel):\n",
    "    w=linear_model_fit(root)\n",
    "device=ct.get_device()\n",
    "net.eval()\n",
    "if args.co2:\n",
    "    MSELOC=root+'/MSE-co2.npy'\n",
    "    SC2LOC=root+'/SC2-co2.npy'\n",
    "else:\n",
    "    MSELOC=root+'/MSE.npy'\n",
    "    SC2LOC=root+'/SC2.npy'\n",
    "\n",
    "spread=net.spread\n",
    "noutsig=net.outwidth\n",
    "\n",
    "\n",
    "\n",
    "if args.depth:\n",
    "    MSELOC=MSELOC.replace('.npy','-depth.npy')\n",
    "    SC2LOC=SC2LOC.replace('.npy','-depth.npy')\n",
    "    numdepths=len(training_set.depthvals)\n",
    "else:\n",
    "    numdepths=1"
   ]
  },
  {
   "cell_type": "code",
   "execution_count": 24,
   "id": "7907ab07",
   "metadata": {},
   "outputs": [
    {
     "name": "stdout",
     "output_type": "stream",
     "text": [
      "/scratch/cg3306/climate/runs/G-1/MSE-depth.npy\n"
     ]
    }
   ],
   "source": [
    "MSE=torch.zeros(numdepths,noutsig,dataset.dimens[0]-spread*2, dataset.dimens[1]-spread*2)\n",
    "#LIKE=torch.zeros(noutsig,dataset.dimens[0]-spread*2, dataset.dimens[1]-spread*2)\n",
    "SC2=torch.zeros(numdepths,noutsig,dataset.dimens[0]-spread*2, dataset.dimens[1]-spread*2)\n",
    "print(MSELOC)\n",
    "arr=np.arange(len(dataset))\n",
    "np.random.shuffle(arr)\n",
    "\n",
    "for di in range(len(dataset)*numdepths):\n",
    "    i=di%len(dataset)\n",
    "    depthind=di//len(dataset)\n",
    "    if args.depth:\n",
    "        dataset.depthind=depthind\n",
    "        uv,Sxy=dataset.input_output(arr[i],scale=False)\n",
    "        if i==0:\n",
    "            training_set.depthind=depthind\n",
    "            insc,outsc=training_set.compute_scales()\n",
    "            insc,outsc=np.reshape(insc,[-1,1,1]),np.reshape(outsc,[-1,1,1])\n",
    "            if residue_flag:\n",
    "                outsc=np.concatenate([outsc,outsc],axis=0)\n",
    "        uv=uv/insc\n",
    "        Sxy=Sxy/outsc\n",
    "        uv[uv!=uv]=0\n",
    "        Sxy[Sxy!=Sxy]=0\n",
    "        uv,Sxy=dataset.pad_with_zero(uv,0),dataset.pad_with_zero(Sxy,dataset.spread)\n",
    "    else:\n",
    "        uv,_,Sxy=dataset[arr[i]]\n",
    "    if residue_flag:\n",
    "        Sxy1,Sxy=torch.split(Sxy,[numoutputs,numoutputs],dim=0)\n",
    "    uv=torch.stack([uv]).to(device)\n",
    "    #net.set_coarsening(0)\n",
    "    with torch.set_grad_enabled(False):\n",
    "        if isinstance(net, climate_models.RegressionModel):\n",
    "            output=net.forward(uv,w)\n",
    "        else:\n",
    "            output=net.forward(uv)\n",
    "    output=output[0].to(torch.device(\"cpu\"))\n",
    "    output,prec,_=torch.split(output,[noutsig,net.nprecision,output.shape[0]-noutsig-net.nprecision],dim=0)\n",
    "    SC2[depthind]=SC2[depthind] + Sxy**2\n",
    "    if residue_flag:\n",
    "        MSE[depthind]=MSE[depthind] + (Sxy1-output)**2\n",
    "    else:\n",
    "        MSE[depthind]=MSE[depthind] + (Sxy-output)**2\n",
    "    if i==10:\n",
    "        break"
   ]
  },
  {
   "cell_type": "code",
   "execution_count": 25,
   "id": "09e16d9d",
   "metadata": {},
   "outputs": [
    {
     "data": {
      "text/plain": [
       "(torch.Size([2, 625, 900]), torch.Size([2, 625, 900]))"
      ]
     },
     "execution_count": 25,
     "metadata": {},
     "output_type": "execute_result"
    }
   ],
   "source": [
    "output.shape,Sxy.shape"
   ]
  },
  {
   "cell_type": "code",
   "execution_count": 26,
   "id": "62266739",
   "metadata": {},
   "outputs": [
    {
     "data": {
      "text/plain": [
       "<matplotlib.image.AxesImage at 0x7f355c0d8310>"
      ]
     },
     "execution_count": 26,
     "metadata": {},
     "output_type": "execute_result"
    },
    {
     "data": {
      "image/png": "[encoded data removed]",
      "text/plain": [
       "<Figure size 720x720 with 2 Axes>"
      ]
     },
     "metadata": {
      "needs_background": "light"
     },
     "output_type": "display_data"
    }
   ],
   "source": [
    "fig,axs=plt.subplots(1,2,figsize=(10,10))\n",
    "axs[0].imshow(output[0,100:150,100:150])\n",
    "axs[1].imshow(Sxy[0,100:150,100:150])"
   ]
  },
  {
   "cell_type": "code",
   "execution_count": 65,
   "id": "c75e1848",
   "metadata": {},
   "outputs": [
    {
     "data": {
      "text/plain": [
       "<matplotlib.image.AxesImage at 0x7f3518551910>"
      ]
     },
     "execution_count": 65,
     "metadata": {},
     "output_type": "execute_result"
    },
    {
     "data": {
      "image/png": "[encoded data removed]",
      "text/plain": [
       "<Figure size 720x720 with 2 Axes>"
      ]
     },
     "metadata": {
      "needs_background": "light"
     },
     "output_type": "display_data"
    }
   ],
   "source": [
    "fig,axs=plt.subplots(1,2,figsize=(10,10))\n",
    "axs[0].imshow(MSE[0,0,100:150,100:150])\n",
    "axs[1].imshow(SC2[0,0,100:150,100:150])"
   ]
  },
  {
   "cell_type": "code",
   "execution_count": 43,
   "id": "f363d88f",
   "metadata": {},
   "outputs": [
    {
     "data": {
      "text/plain": [
       "'/scratch/cg3306/climate/runs/G-1/MSE-depth.npy'"
      ]
     },
     "execution_count": 43,
     "metadata": {},
     "output_type": "execute_result"
    }
   ],
   "source": [
    "MSELOC"
   ]
  },
  {
   "cell_type": "code",
   "execution_count": 62,
   "id": "5184f9cd",
   "metadata": {},
   "outputs": [],
   "source": [
    "MSE=np.load(MSELOC)"
   ]
  },
  {
   "cell_type": "code",
   "execution_count": 63,
   "id": "c29ee502",
   "metadata": {},
   "outputs": [
    {
     "data": {
      "text/plain": [
       "(7, 2, 625, 900)"
      ]
     },
     "execution_count": 63,
     "metadata": {},
     "output_type": "execute_result"
    }
   ],
   "source": [
    "MSE.shape"
   ]
  },
  {
   "cell_type": "code",
   "execution_count": 64,
   "id": "1baec795",
   "metadata": {},
   "outputs": [
    {
     "data": {
      "text/plain": [
       "[<matplotlib.lines.Line2D at 0x7f3518500730>]"
      ]
     },
     "execution_count": 64,
     "metadata": {},
     "output_type": "execute_result"
    },
    {
     "data": {
      "image/png": "[encoded data removed]",
      "text/plain": [
       "<Figure size 432x288 with 1 Axes>"
      ]
     },
     "metadata": {
      "needs_background": "light"
     },
     "output_type": "display_data"
    }
   ],
   "source": [
    "plt.plot(MSE[0,0,103])"
   ]
  },
  {
   "cell_type": "code",
   "execution_count": null,
   "id": "3c049972",
   "metadata": {},
   "outputs": [],
   "source": []
  }
 ],
 "metadata": {
  "kernelspec": {
   "display_name": "Python 3",
   "language": "python",
   "name": "python3"
  },
  "language_info": {
   "codemirror_mode": {
    "name": "ipython",
    "version": 3
   },
   "file_extension": ".py",
   "mimetype": "text/x-python",
   "name": "python",
   "nbconvert_exporter": "python",
   "pygments_lexer": "ipython3",
   "version": "3.8.5"
  }
 },
 "nbformat": 4,
 "nbformat_minor": 5
}
