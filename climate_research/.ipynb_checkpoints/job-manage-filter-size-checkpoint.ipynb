{
 "cells": [
  {
   "cell_type": "code",
   "execution_count": 1,
   "id": "ba3b35fe",
   "metadata": {},
   "outputs": [],
   "source": [
    "import climate_job_maintenance as cjm\n",
    "\n",
    "import os \n",
    "import numpy as np\n",
    "os.system(\"jupyter nbconvert --to script 'climate_train.ipynb'\")\n",
    "os.system(\"jupyter nbconvert --to script 'climate_data.ipynb'\")\n",
    "os.system(\"jupyter nbconvert --to script 'climate_models.ipynb'\")\n",
    "os.system(\"jupyter nbconvert --to script 'climate_job_maintenance.ipynb'\")\n",
    "\n",
    "import climate_train as ct\n",
    "import climate_data\n",
    "import climate_models\n",
    "import climate_job_maintenance as cjm\n",
    "import torch \n"
   ]
  },
  {
   "cell_type": "code",
   "execution_count": 2,
   "id": "5b6e096d",
   "metadata": {},
   "outputs": [
    {
     "name": "stdout",
     "output_type": "stream",
     "text": [
      "filter size training 8000\n",
      "\tdataset\n",
      "\t\tsurf - depth 110m - \n",
      "\tfilter sozes\n",
      "\t\t21 - 15 - 9 - 7 - 5 - 4 - 3 - 2 - 1 - \n",
      "\tsigma\n",
      "\t\t4 - 8 - 12 - 16 - \n",
      "\tresidue\n",
      "\t\tyes - no - \n"
     ]
    }
   ],
   "source": [
    "args=ct.options(string_input=\"-b 3\".split())\n",
    "args.model_id=8000\n",
    "args.model_bank_id=\"G\"\n",
    "\n",
    "C,names=climate_models.golden_model_bank(args,only_description=True,verbose=True)"
   ]
  },
  {
   "cell_type": "code",
   "execution_count": 6,
   "id": "ac16c95c",
   "metadata": {},
   "outputs": [
    {
     "data": {
      "text/plain": [
       "'\\n\\nx=[[0],np.arange(C[1]).tolist(),[2],[0,1]]\\nJ=cjm.jobnums(C=C,x=x,offset=offset)\\n\\n\\nx=[[0],np.arange(2,C[1]).tolist(),[3],[0,1]]\\nJ+=cjm.jobnums(C=C,x=x,offset=offset)'"
      ]
     },
     "execution_count": 6,
     "metadata": {},
     "output_type": "execute_result"
    }
   ],
   "source": [
    "offset=8000\n",
    "x=[[0],np.arange(C[1]).tolist(),[0],[0,1]]\n",
    "J=cjm.jobnums(C=C,x=x,offset=offset)\n",
    "\n",
    "\n",
    "\n",
    "x=[[0],np.arange(C[1]).tolist(),[1],[0,1]]\n",
    "J+=cjm.jobnums(C=C,x=x,offset=offset)\n",
    "\n",
    "'''\n",
    "\n",
    "x=[[0],np.arange(C[1]).tolist(),[2],[0,1]]\n",
    "J=cjm.jobnums(C=C,x=x,offset=offset)\n",
    "\n",
    "\n",
    "x=[[0],np.arange(2,C[1]).tolist(),[3],[0,1]]\n",
    "J+=cjm.jobnums(C=C,x=x,offset=offset)'''"
   ]
  },
  {
   "cell_type": "code",
   "execution_count": 7,
   "id": "c242c8d4",
   "metadata": {},
   "outputs": [
    {
     "name": "stdout",
     "output_type": "stream",
     "text": [
      "[8000,8002,8004,8006,8008,8010,8012,8014,8016,8072,8074,8076,8078,8080,8082,8084,8086,8088,8020,8022,8024,8026,8028,8030,8032,8034,8092,8094,8096,8098,8100,8102,8104,8106]\n",
      "[8500,8502,8504,8506,8508,8510,8512,8514,8516,8572,8574,8576,8578,8580,8582,8584,8586,8588,8520,8522,8524,8526,8528,8530,8532,8534,8592,8594,8596,8598,8600,8602,8604,8606]\n"
     ]
    }
   ],
   "source": [
    "print(str(J).replace(' ',''))\n",
    "print(str([jj+500 for jj in J]).replace(' ',''))"
   ]
  },
  {
   "cell_type": "code",
   "execution_count": 3,
   "id": "dd6ff350",
   "metadata": {},
   "outputs": [],
   "source": [
    "offset=8000\n",
    "x=[[0],np.arange(C[1]).tolist(),np.arange(1,4).tolist(),[0,1]]\n",
    "J=cjm.jobnums(C=C,x=x,offset=offset)"
   ]
  },
  {
   "cell_type": "code",
   "execution_count": 4,
   "id": "55493f9d",
   "metadata": {},
   "outputs": [
    {
     "name": "stdout",
     "output_type": "stream",
     "text": [
      "Hasnt started:\n",
      "[]\n",
      "Hasnt finished:\n",
      "[]\n",
      "Nan:\n",
      "[]\n",
      "Needs eval:\n",
      "[]\n",
      "Done eval:\n",
      "[8000,8002,8004,8006,8008,8010,8012,8014,8016,8018,8020,8022,8024,8026,8028,8030,8032,8034,8036,8038,8040,8042,8044,8046,8048,8050,8052,8054,8056,8058,8060,8062,8064,8066,8068,8070,8072,8074,8076,8078,8080,8082,8084,8086,8088,8090,8092,8094,8096,8098,8100,8102,8104,8106,8108,8110,8112,8114,8116,8118,8120,8122,8124,8126,8128,8130,8132,8134,8136,8138,8140,8142]\n",
      "Late eval job:\n",
      "[]\n",
      "Needs grad-probe:\n",
      "[8000,8002,8004,8006,8008,8010,8012,8014,8016,8018,8020,8022,8024,8026,8028,8030,8032,8034,8036,8038,8040,8042,8044,8046,8048,8050,8052,8054,8056,8058,8060,8062,8064,8066,8068,8070,8072,8074,8076,8078,8080,8082,8084,8086,8088,8090,8092,8094,8096,8098,8100,8102,8104,8106,8108,8110,8112,8114,8116,8118,8120,8122,8124,8126,8128,8130,8132,8134,8136,8138,8140,8142]\n",
      "Done rad-probe:\n",
      "[]\n"
     ]
    }
   ],
   "source": [
    "cjm.report_progress(C,x,offset=offset)"
   ]
  },
  {
   "cell_type": "code",
   "execution_count": 8,
   "id": "c22a586f",
   "metadata": {},
   "outputs": [
    {
     "name": "stdout",
     "output_type": "stream",
     "text": [
      "[8018,8020,8022,8024,8026,8028,8030,8032,8034,8036,8038,8040,8042,8044,8046,8048,8050,8052,8054,8056,8058,8060,8062,8064,8066,8068,8070,8090,8092,8094,8096,8098,8100,8102,8104,8106,8108,8110,8112,8114,8116,8118,8120,8122,8124,8126,8128,8130,8132,8134,8136,8138,8140,8142]\n",
      "[8518,8520,8522,8524,8526,8528,8530,8532,8534,8536,8538,8540,8542,8544,8546,8548,8550,8552,8554,8556,8558,8560,8562,8564,8566,8568,8570,8590,8592,8594,8596,8598,8600,8602,8604,8606,8608,8610,8612,8614,8616,8618,8620,8622,8624,8626,8628,8630,8632,8634,8636,8638,8640,8642]\n"
     ]
    }
   ],
   "source": [
    "print(str(J).replace(' ',''))\n",
    "print(str([jj+500 for jj in J]).replace(' ',''))"
   ]
  },
  {
   "cell_type": "code",
   "execution_count": 12,
   "id": "e4165e34",
   "metadata": {},
   "outputs": [],
   "source": [
    "x=[[0],np.arange(C[1]).tolist(),[2],[0,1]]\n",
    "J=cjm.jobnums(C=C,x=x,offset=offset)\n",
    "\n",
    "\n",
    "x=[[0],np.arange(2,C[1]).tolist(),[3],[0,1]]\n",
    "J+=cjm.jobnums(C=C,x=x,offset=offset)"
   ]
  },
  {
   "cell_type": "code",
   "execution_count": 5,
   "id": "56e03e31",
   "metadata": {},
   "outputs": [
    {
     "name": "stdout",
     "output_type": "stream",
     "text": [
      "depth test 0\n",
      "\ttemp\n",
      "\t\tyes - no - \n",
      "\tres\n",
      "\t\tno - yes - \n",
      "\tgeophys\n",
      "\t\tno - yes - \n",
      "\ttraining-depth\n",
      "\t\t0 - 1 - 2 - 3 - 4 - 5 - 6 - \n",
      "\tsigma\n",
      "\t\t4 - 8 - 12 - 16 - \n"
     ]
    }
   ],
   "source": [
    "args=ct.options(string_input=\"-b 3 --depth 1\".split())\n",
    "\n",
    "args.model_id=3\n",
    "args.model_bank_id=\"G\"\n",
    "\n",
    "C,names=climate_models.golden_model_bank(args,only_description=True,verbose=True)"
   ]
  },
  {
   "cell_type": "code",
   "execution_count": 6,
   "id": "53330d87",
   "metadata": {},
   "outputs": [
    {
     "data": {
      "text/plain": [
       "[[1, 0, 0, 0, 2]]"
      ]
     },
     "execution_count": 6,
     "metadata": {},
     "output_type": "execute_result"
    }
   ],
   "source": [
    "cjm.factor_jobnum(C,[113])"
   ]
  },
  {
   "cell_type": "code",
   "execution_count": 7,
   "id": "de132f19",
   "metadata": {},
   "outputs": [],
   "source": [
    "offset=0\n",
    "x=[[1],[0,1],[0],np.arange(6).tolist(),[0,2]]\n",
    "J=cjm.jobnums(C=C,x=x,offset=offset)"
   ]
  },
  {
   "cell_type": "code",
   "execution_count": 8,
   "id": "83759a29",
   "metadata": {},
   "outputs": [
    {
     "name": "stdout",
     "output_type": "stream",
     "text": [
      "[1,3,9,11,17,19,25,27,33,35,41,43,113,115,121,123,129,131,137,139,145,147,153,155]\n"
     ]
    }
   ],
   "source": [
    "print(str(J).replace(' ',''))"
   ]
  },
  {
   "cell_type": "code",
   "execution_count": 9,
   "id": "cf18b526",
   "metadata": {},
   "outputs": [
    {
     "name": "stdout",
     "output_type": "stream",
     "text": [
      "Hasnt started:\n",
      "[]\n",
      "Hasnt finished:\n",
      "[43]\n",
      "Nan:\n",
      "[]\n",
      "Needs eval:\n",
      "[]\n",
      "Done eval:\n",
      "[1,3,9,11,17,19,25,27,33,35,41,43,113,115,121,123,129,131,137,139,145,147,153,155]\n",
      "Late eval job:\n",
      "[]\n",
      "Needs grad-probe:\n",
      "[1,3,9,11,17,19,25,27,33,35,41,43,113,115,121,123,129,131,137,139,145,147,153,155]\n",
      "Done rad-probe:\n",
      "[]\n"
     ]
    }
   ],
   "source": [
    "cjm.report_progress(C,x,offset=offset)"
   ]
  },
  {
   "cell_type": "code",
   "execution_count": 16,
   "id": "041e57ac",
   "metadata": {},
   "outputs": [
    {
     "name": "stderr",
     "output_type": "stream",
     "text": [
      "/ext3/miniconda3/lib/python3.8/site-packages/torch/cuda/__init__.py:52: UserWarning: CUDA initialization: Found no NVIDIA driver on your system. Please check that you have an NVIDIA GPU and installed a driver from http://www.nvidia.com/Download/index.aspx (Triggered internally at  /pytorch/c10/cuda/CUDAFunctions.cpp:100.)\n",
      "  return torch._C._cuda_getDeviceCount() > 0\n"
     ]
    },
    {
     "name": "stdout",
     "output_type": "stream",
     "text": [
      "domain id: 3\n",
      "LCNN + 9x9 + surface + glbl + coarse(8) + batch= 8\n",
      "domain id: 3\n",
      "269279 9\n",
      "\t\ttorch.Size([1, 315, 450]) torch.Size([3, 315, 450])\n",
      "8094\n"
     ]
    }
   ],
   "source": [
    "cjm.configure_models([8094])"
   ]
  },
  {
   "cell_type": "code",
   "execution_count": 31,
   "id": "2cfb302a",
   "metadata": {},
   "outputs": [],
   "source": [
    "import xarray as xr"
   ]
  },
  {
   "cell_type": "code",
   "execution_count": 32,
   "id": "45dc6550",
   "metadata": {},
   "outputs": [],
   "source": [
    "ds_zarr=xr.open_zarr('/scratch/zanna/data/cm2.6/coarse-3D-data-sigma-4.zarr')"
   ]
  },
  {
   "cell_type": "code",
   "execution_count": 34,
   "id": "8552a808",
   "metadata": {},
   "outputs": [
    {
     "data": {
      "text/html": [
       "<div><svg style=\"position: absolute; width: 0; height: 0; overflow: hidden\">\n",
       "<defs>\n",
       "<symbol id=\"icon-database\" viewBox=\"0 0 32 32\">\n",
       "<path d=\"M16 0c-8.837 0-16 2.239-16 5v4c0 2.761 7.163 5 16 5s16-2.239 16-5v-4c0-2.761-7.163-5-16-5z\"></path>\n",
       "<path d=\"M16 17c-8.837 0-16-2.239-16-5v6c0 2.761 7.163 5 16 5s16-2.239 16-5v-6c0 2.761-7.163 5-16 5z\"></path>\n",
       "<path d=\"M16 26c-8.837 0-16-2.239-16-5v6c0 2.761 7.163 5 16 5s16-2.239 16-5v-6c0 2.761-7.163 5-16 5z\"></path>\n",
       "</symbol>\n",
       "<symbol id=\"icon-file-text2\" viewBox=\"0 0 32 32\">\n",
       "<path d=\"M28.681 7.159c-0.694-0.947-1.662-2.053-2.724-3.116s-2.169-2.030-3.116-2.724c-1.612-1.182-2.393-1.319-2.841-1.319h-15.5c-1.378 0-2.5 1.121-2.5 2.5v27c0 1.378 1.122 2.5 2.5 2.5h23c1.378 0 2.5-1.122 2.5-2.5v-19.5c0-0.448-0.137-1.23-1.319-2.841zM24.543 5.457c0.959 0.959 1.712 1.825 2.268 2.543h-4.811v-4.811c0.718 0.556 1.584 1.309 2.543 2.268zM28 29.5c0 0.271-0.229 0.5-0.5 0.5h-23c-0.271 0-0.5-0.229-0.5-0.5v-27c0-0.271 0.229-0.5 0.5-0.5 0 0 15.499-0 15.5 0v7c0 0.552 0.448 1 1 1h7v19.5z\"></path>\n",
       "<path d=\"M23 26h-14c-0.552 0-1-0.448-1-1s0.448-1 1-1h14c0.552 0 1 0.448 1 1s-0.448 1-1 1z\"></path>\n",
       "<path d=\"M23 22h-14c-0.552 0-1-0.448-1-1s0.448-1 1-1h14c0.552 0 1 0.448 1 1s-0.448 1-1 1z\"></path>\n",
       "<path d=\"M23 18h-14c-0.552 0-1-0.448-1-1s0.448-1 1-1h14c0.552 0 1 0.448 1 1s-0.448 1-1 1z\"></path>\n",
       "</symbol>\n",
       "</defs>\n",
       "</svg>\n",
       "<style>/* CSS stylesheet for displaying xarray objects in jupyterlab.\n",
       " *\n",
       " */\n",
       "\n",
       ":root {\n",
       "  --xr-font-color0: var(--jp-content-font-color0, rgba(0, 0, 0, 1));\n",
       "  --xr-font-color2: var(--jp-content-font-color2, rgba(0, 0, 0, 0.54));\n",
       "  --xr-font-color3: var(--jp-content-font-color3, rgba(0, 0, 0, 0.38));\n",
       "  --xr-border-color: var(--jp-border-color2, #e0e0e0);\n",
       "  --xr-disabled-color: var(--jp-layout-color3, #bdbdbd);\n",
       "  --xr-background-color: var(--jp-layout-color0, white);\n",
       "  --xr-background-color-row-even: var(--jp-layout-color1, white);\n",
       "  --xr-background-color-row-odd: var(--jp-layout-color2, #eeeeee);\n",
       "}\n",
       "\n",
       "html[theme=dark],\n",
       "body.vscode-dark {\n",
       "  --xr-font-color0: rgba(255, 255, 255, 1);\n",
       "  --xr-font-color2: rgba(255, 255, 255, 0.54);\n",
       "  --xr-font-color3: rgba(255, 255, 255, 0.38);\n",
       "  --xr-border-color: #1F1F1F;\n",
       "  --xr-disabled-color: #515151;\n",
       "  --xr-background-color: #111111;\n",
       "  --xr-background-color-row-even: #111111;\n",
       "  --xr-background-color-row-odd: #313131;\n",
       "}\n",
       "\n",
       ".xr-wrap {\n",
       "  display: block;\n",
       "  min-width: 300px;\n",
       "  max-width: 700px;\n",
       "}\n",
       "\n",
       ".xr-text-repr-fallback {\n",
       "  /* fallback to plain text repr when CSS is not injected (untrusted notebook) */\n",
       "  display: none;\n",
       "}\n",
       "\n",
       ".xr-header {\n",
       "  padding-top: 6px;\n",
       "  padding-bottom: 6px;\n",
       "  margin-bottom: 4px;\n",
       "  border-bottom: solid 1px var(--xr-border-color);\n",
       "}\n",
       "\n",
       ".xr-header > div,\n",
       ".xr-header > ul {\n",
       "  display: inline;\n",
       "  margin-top: 0;\n",
       "  margin-bottom: 0;\n",
       "}\n",
       "\n",
       ".xr-obj-type,\n",
       ".xr-array-name {\n",
       "  margin-left: 2px;\n",
       "  margin-right: 10px;\n",
       "}\n",
       "\n",
       ".xr-obj-type {\n",
       "  color: var(--xr-font-color2);\n",
       "}\n",
       "\n",
       ".xr-sections {\n",
       "  padding-left: 0 !important;\n",
       "  display: grid;\n",
       "  grid-template-columns: 150px auto auto 1fr 20px 20px;\n",
       "}\n",
       "\n",
       ".xr-section-item {\n",
       "  display: contents;\n",
       "}\n",
       "\n",
       ".xr-section-item input {\n",
       "  display: none;\n",
       "}\n",
       "\n",
       ".xr-section-item input + label {\n",
       "  color: var(--xr-disabled-color);\n",
       "}\n",
       "\n",
       ".xr-section-item input:enabled + label {\n",
       "  cursor: pointer;\n",
       "  color: var(--xr-font-color2);\n",
       "}\n",
       "\n",
       ".xr-section-item input:enabled + label:hover {\n",
       "  color: var(--xr-font-color0);\n",
       "}\n",
       "\n",
       ".xr-section-summary {\n",
       "  grid-column: 1;\n",
       "  color: var(--xr-font-color2);\n",
       "  font-weight: 500;\n",
       "}\n",
       "\n",
       ".xr-section-summary > span {\n",
       "  display: inline-block;\n",
       "  padding-left: 0.5em;\n",
       "}\n",
       "\n",
       ".xr-section-summary-in:disabled + label {\n",
       "  color: var(--xr-font-color2);\n",
       "}\n",
       "\n",
       ".xr-section-summary-in + label:before {\n",
       "  display: inline-block;\n",
       "  content: '►';\n",
       "  font-size: 11px;\n",
       "  width: 15px;\n",
       "  text-align: center;\n",
       "}\n",
       "\n",
       ".xr-section-summary-in:disabled + label:before {\n",
       "  color: var(--xr-disabled-color);\n",
       "}\n",
       "\n",
       ".xr-section-summary-in:checked + label:before {\n",
       "  content: '▼';\n",
       "}\n",
       "\n",
       ".xr-section-summary-in:checked + label > span {\n",
       "  display: none;\n",
       "}\n",
       "\n",
       ".xr-section-summary,\n",
       ".xr-section-inline-details {\n",
       "  padding-top: 4px;\n",
       "  padding-bottom: 4px;\n",
       "}\n",
       "\n",
       ".xr-section-inline-details {\n",
       "  grid-column: 2 / -1;\n",
       "}\n",
       "\n",
       ".xr-section-details {\n",
       "  display: none;\n",
       "  grid-column: 1 / -1;\n",
       "  margin-bottom: 5px;\n",
       "}\n",
       "\n",
       ".xr-section-summary-in:checked ~ .xr-section-details {\n",
       "  display: contents;\n",
       "}\n",
       "\n",
       ".xr-array-wrap {\n",
       "  grid-column: 1 / -1;\n",
       "  display: grid;\n",
       "  grid-template-columns: 20px auto;\n",
       "}\n",
       "\n",
       ".xr-array-wrap > label {\n",
       "  grid-column: 1;\n",
       "  vertical-align: top;\n",
       "}\n",
       "\n",
       ".xr-preview {\n",
       "  color: var(--xr-font-color3);\n",
       "}\n",
       "\n",
       ".xr-array-preview,\n",
       ".xr-array-data {\n",
       "  padding: 0 5px !important;\n",
       "  grid-column: 2;\n",
       "}\n",
       "\n",
       ".xr-array-data,\n",
       ".xr-array-in:checked ~ .xr-array-preview {\n",
       "  display: none;\n",
       "}\n",
       "\n",
       ".xr-array-in:checked ~ .xr-array-data,\n",
       ".xr-array-preview {\n",
       "  display: inline-block;\n",
       "}\n",
       "\n",
       ".xr-dim-list {\n",
       "  display: inline-block !important;\n",
       "  list-style: none;\n",
       "  padding: 0 !important;\n",
       "  margin: 0;\n",
       "}\n",
       "\n",
       ".xr-dim-list li {\n",
       "  display: inline-block;\n",
       "  padding: 0;\n",
       "  margin: 0;\n",
       "}\n",
       "\n",
       ".xr-dim-list:before {\n",
       "  content: '(';\n",
       "}\n",
       "\n",
       ".xr-dim-list:after {\n",
       "  content: ')';\n",
       "}\n",
       "\n",
       ".xr-dim-list li:not(:last-child):after {\n",
       "  content: ',';\n",
       "  padding-right: 5px;\n",
       "}\n",
       "\n",
       ".xr-has-index {\n",
       "  font-weight: bold;\n",
       "}\n",
       "\n",
       ".xr-var-list,\n",
       ".xr-var-item {\n",
       "  display: contents;\n",
       "}\n",
       "\n",
       ".xr-var-item > div,\n",
       ".xr-var-item label,\n",
       ".xr-var-item > .xr-var-name span {\n",
       "  background-color: var(--xr-background-color-row-even);\n",
       "  margin-bottom: 0;\n",
       "}\n",
       "\n",
       ".xr-var-item > .xr-var-name:hover span {\n",
       "  padding-right: 5px;\n",
       "}\n",
       "\n",
       ".xr-var-list > li:nth-child(odd) > div,\n",
       ".xr-var-list > li:nth-child(odd) > label,\n",
       ".xr-var-list > li:nth-child(odd) > .xr-var-name span {\n",
       "  background-color: var(--xr-background-color-row-odd);\n",
       "}\n",
       "\n",
       ".xr-var-name {\n",
       "  grid-column: 1;\n",
       "}\n",
       "\n",
       ".xr-var-dims {\n",
       "  grid-column: 2;\n",
       "}\n",
       "\n",
       ".xr-var-dtype {\n",
       "  grid-column: 3;\n",
       "  text-align: right;\n",
       "  color: var(--xr-font-color2);\n",
       "}\n",
       "\n",
       ".xr-var-preview {\n",
       "  grid-column: 4;\n",
       "}\n",
       "\n",
       ".xr-var-name,\n",
       ".xr-var-dims,\n",
       ".xr-var-dtype,\n",
       ".xr-preview,\n",
       ".xr-attrs dt {\n",
       "  white-space: nowrap;\n",
       "  overflow: hidden;\n",
       "  text-overflow: ellipsis;\n",
       "  padding-right: 10px;\n",
       "}\n",
       "\n",
       ".xr-var-name:hover,\n",
       ".xr-var-dims:hover,\n",
       ".xr-var-dtype:hover,\n",
       ".xr-attrs dt:hover {\n",
       "  overflow: visible;\n",
       "  width: auto;\n",
       "  z-index: 1;\n",
       "}\n",
       "\n",
       ".xr-var-attrs,\n",
       ".xr-var-data {\n",
       "  display: none;\n",
       "  background-color: var(--xr-background-color) !important;\n",
       "  padding-bottom: 5px !important;\n",
       "}\n",
       "\n",
       ".xr-var-attrs-in:checked ~ .xr-var-attrs,\n",
       ".xr-var-data-in:checked ~ .xr-var-data {\n",
       "  display: block;\n",
       "}\n",
       "\n",
       ".xr-var-data > table {\n",
       "  float: right;\n",
       "}\n",
       "\n",
       ".xr-var-name span,\n",
       ".xr-var-data,\n",
       ".xr-attrs {\n",
       "  padding-left: 25px !important;\n",
       "}\n",
       "\n",
       ".xr-attrs,\n",
       ".xr-var-attrs,\n",
       ".xr-var-data {\n",
       "  grid-column: 1 / -1;\n",
       "}\n",
       "\n",
       "dl.xr-attrs {\n",
       "  padding: 0;\n",
       "  margin: 0;\n",
       "  display: grid;\n",
       "  grid-template-columns: 125px auto;\n",
       "}\n",
       "\n",
       ".xr-attrs dt,\n",
       ".xr-attrs dd {\n",
       "  padding: 0;\n",
       "  margin: 0;\n",
       "  float: left;\n",
       "  padding-right: 10px;\n",
       "  width: auto;\n",
       "}\n",
       "\n",
       ".xr-attrs dt {\n",
       "  font-weight: normal;\n",
       "  grid-column: 1;\n",
       "}\n",
       "\n",
       ".xr-attrs dt:hover span {\n",
       "  display: inline-block;\n",
       "  background: var(--xr-background-color);\n",
       "  padding-right: 10px;\n",
       "}\n",
       "\n",
       ".xr-attrs dd {\n",
       "  grid-column: 2;\n",
       "  white-space: pre-wrap;\n",
       "  word-break: break-all;\n",
       "}\n",
       "\n",
       ".xr-icon-database,\n",
       ".xr-icon-file-text2 {\n",
       "  display: inline-block;\n",
       "  vertical-align: middle;\n",
       "  width: 1em;\n",
       "  height: 1.5em !important;\n",
       "  stroke-width: 0;\n",
       "  stroke: currentColor;\n",
       "  fill: currentColor;\n",
       "}\n",
       "</style><pre class='xr-text-repr-fallback'>&lt;xarray.DataArray &#x27;st_ocean&#x27; (st_ocean: 7)&gt;\n",
       "array([   5.03355 ,   55.853249,  110.096153,  181.312454,  330.007751,\n",
       "       1497.56189 , 3508.633057])\n",
       "Coordinates:\n",
       "  * st_ocean  (st_ocean) float64 5.034 55.85 110.1 ... 330.0 1.498e+03 3.509e+03</pre><div class='xr-wrap' hidden><div class='xr-header'><div class='xr-obj-type'>xarray.DataArray</div><div class='xr-array-name'>'st_ocean'</div><ul class='xr-dim-list'><li><span class='xr-has-index'>st_ocean</span>: 7</li></ul></div><ul class='xr-sections'><li class='xr-section-item'><div class='xr-array-wrap'><input id='section-0f2ec619-b5e4-4ae4-8ca0-db82288602e5' class='xr-array-in' type='checkbox' checked><label for='section-0f2ec619-b5e4-4ae4-8ca0-db82288602e5' title='Show/hide data repr'><svg class='icon xr-icon-database'><use xlink:href='#icon-database'></use></svg></label><div class='xr-array-preview xr-preview'><span>5.034 55.85 110.1 181.3 330.0 1.498e+03 3.509e+03</span></div><div class='xr-array-data'><pre>array([   5.03355 ,   55.853249,  110.096153,  181.312454,  330.007751,\n",
       "       1497.56189 , 3508.633057])</pre></div></div></li><li class='xr-section-item'><input id='section-87698e5e-f2a0-4889-aa3c-62e166fe4f20' class='xr-section-summary-in' type='checkbox'  checked><label for='section-87698e5e-f2a0-4889-aa3c-62e166fe4f20' class='xr-section-summary' >Coordinates: <span>(1)</span></label><div class='xr-section-inline-details'></div><div class='xr-section-details'><ul class='xr-var-list'><li class='xr-var-item'><div class='xr-var-name'><span class='xr-has-index'>st_ocean</span></div><div class='xr-var-dims'>(st_ocean)</div><div class='xr-var-dtype'>float64</div><div class='xr-var-preview xr-preview'>5.034 55.85 ... 1.498e+03 3.509e+03</div><input id='attrs-4f532432-6141-4522-b45a-0164492e232d' class='xr-var-attrs-in' type='checkbox' disabled><label for='attrs-4f532432-6141-4522-b45a-0164492e232d' title='Show/Hide attributes'><svg class='icon xr-icon-file-text2'><use xlink:href='#icon-file-text2'></use></svg></label><input id='data-5578a42a-79ac-4b6b-9b69-cf05bc050585' class='xr-var-data-in' type='checkbox'><label for='data-5578a42a-79ac-4b6b-9b69-cf05bc050585' title='Show/Hide data repr'><svg class='icon xr-icon-database'><use xlink:href='#icon-database'></use></svg></label><div class='xr-var-attrs'><dl class='xr-attrs'></dl></div><div class='xr-var-data'><pre>array([   5.03355 ,   55.853249,  110.096153,  181.312454,  330.007751,\n",
       "       1497.56189 , 3508.633057])</pre></div></li></ul></div></li><li class='xr-section-item'><input id='section-10d6d310-76df-4529-afad-13bf641648d9' class='xr-section-summary-in' type='checkbox' disabled ><label for='section-10d6d310-76df-4529-afad-13bf641648d9' class='xr-section-summary'  title='Expand/collapse section'>Attributes: <span>(0)</span></label><div class='xr-section-inline-details'></div><div class='xr-section-details'><dl class='xr-attrs'></dl></div></li></ul></div></div>"
      ],
      "text/plain": [
       "<xarray.DataArray 'st_ocean' (st_ocean: 7)>\n",
       "array([   5.03355 ,   55.853249,  110.096153,  181.312454,  330.007751,\n",
       "       1497.56189 , 3508.633057])\n",
       "Coordinates:\n",
       "  * st_ocean  (st_ocean) float64 5.034 55.85 110.1 ... 330.0 1.498e+03 3.509e+03"
      ]
     },
     "execution_count": 34,
     "metadata": {},
     "output_type": "execute_result"
    }
   ],
   "source": [
    "ds_zarr.st_ocean"
   ]
  },
  {
   "cell_type": "code",
   "execution_count": null,
   "id": "368e4d0e",
   "metadata": {},
   "outputs": [],
   "source": []
  }
 ],
 "metadata": {
  "kernelspec": {
   "display_name": "Python 3",
   "language": "python",
   "name": "python3"
  },
  "language_info": {
   "codemirror_mode": {
    "name": "ipython",
    "version": 3
   },
   "file_extension": ".py",
   "mimetype": "text/x-python",
   "name": "python",
   "nbconvert_exporter": "python",
   "pygments_lexer": "ipython3",
   "version": "3.8.5"
  }
 },
 "nbformat": 4,
 "nbformat_minor": 5
}
