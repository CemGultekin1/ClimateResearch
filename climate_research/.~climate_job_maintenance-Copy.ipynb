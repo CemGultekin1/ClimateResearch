{
 "cells": [
  {
   "cell_type": "code",
   "execution_count": 1,
   "id": "0ad59783",
   "metadata": {},
   "outputs": [],
   "source": [
    "import xarray as xr\n",
    "import torch\n",
    "from torch.nn import functional as F\n",
    "from torch import nn\n",
    "from torch import optim\n",
    "import numpy as np\n",
    "import matplotlib.pyplot as plt\n",
    "import os\n",
    "import argparse\n",
    "from datetime import date\n",
    "import json\n",
    "import copy\n",
    "from scipy.interpolate import RectBivariateSpline\n",
    "import scipy\n",
    "from mpl_toolkits.axes_grid1 import make_axes_locatable\n",
    "from itertools import product\n",
    "\n",
    "os.system(\"jupyter nbconvert --to script 'climate_train.ipynb'\")\n",
    "os.system(\"jupyter nbconvert --to script 'climate_data.ipynb'\")\n",
    "os.system(\"jupyter nbconvert --to script 'climate_models.ipynb'\")\n",
    "\n",
    "import climate_train\n",
    "import climate_data\n",
    "import climate_models"
   ]
  },
  {
   "cell_type": "code",
   "execution_count": 2,
   "id": "eb24e93b",
   "metadata": {},
   "outputs": [],
   "source": [
    "def jobnums(C=[2,3,4,3,2],x=[[0,1],[0,1,2],[0,1,2,3],[1,2],[0]],offset=5000):\n",
    "    lxi=[len(xx) for xx in x]\n",
    "    n=np.prod(lxi)\n",
    "    y=[]\n",
    "    for i in range(n):\n",
    "        ii=i\n",
    "        tt=0\n",
    "        TT=1\n",
    "        for j in range(len(x)):\n",
    "            tt+=x[j][ii%lxi[j]]*TT\n",
    "            ii=ii//lxi[j]\n",
    "            TT*=C[j]\n",
    "        y.append(tt)\n",
    "    y=[tt+offset for tt in y] \n",
    "    return y\n",
    "\n",
    "def configure_models(modelnums):\n",
    "    for i in modelnums:\n",
    "        string_input=\"--b 1 -e 10 --nworkers 10 \\\n",
    "            --subtime 0.005 --disp 1 --relog 1 --rerun 1 \\\n",
    "            --lr 0.01 --model_id \" +str(i)+ \" --model_bank_id G\"\n",
    "        args=climate_train.options(string_input=string_input.split())\n",
    "        _=climate_models.model_bank(args,configure=True,verbose=False)\n",
    "\n",
    "        net,criterion,(data_init,partition),logs,(PATH0,PATH1,LOG,root)=climate_train.load_from_save(args)\n",
    "        print(net.nparam,net.receptive_field)\n",
    "        (training_set,training_generator),\\\n",
    "                    (val_set,val_generator),\\\n",
    "                        (test_set,test_generator),\\\n",
    "                            (glbl_set,glbl_gen)=climate_train.load_data(data_init,partition,args)\n",
    "        #landmasks=climate_data.get_land_masks(val_generator)\n",
    "        training_set.save_scales()\n",
    "        training_set.save_masks()\n",
    "        landmasks=training_set.get_masks()\n",
    "        X,dom_num,Y=training_set[0]\n",
    "        print('\\t\\t'+str(landmasks[dom_num].shape)+' '+str(Y.shape))\n",
    "        print(str(i),flush=True)\n",
    "\n",
    "def check_model(modelnums):\n",
    "    final_lrs=[]\n",
    "    num_iter=[]\n",
    "    eval_vals=[]\n",
    "    \n",
    "    for i in range(len(modelnums)):\n",
    "        if modelnums[i]//1000!=6:\n",
    "            LOG='/scratch/cg3306/climate/runs/G-'+str(modelnums[i])+'/log.json'\n",
    "\n",
    "            try:\n",
    "                with open(LOG, 'r') as outfile:\n",
    "                    logs=json.load(outfile)\n",
    "                if np.isnan(logs['test-loss'][-1]):\n",
    "                    flr=np.nan\n",
    "                    niter=np.nan\n",
    "                else:\n",
    "                    flr=logs['lr'][-1]\n",
    "                    niter=len(logs['lr'])\n",
    "            except:\n",
    "                flr=1\n",
    "                niter=0\n",
    "            final_lrs.append(flr)\n",
    "            num_iter.append(niter)\n",
    "            DIR='/scratch/cg3306/climate/runs/G-'+str(modelnums[i])+'/'\n",
    "            evalflag='MSE.npy' in os.listdir(DIR)\n",
    "            evalflag=evalflag and ('MSE-co2.npy' in os.listdir(DIR))\n",
    "            eval_vals.append(evalflag)\n",
    "        else:\n",
    "            final_lrs.append(0)\n",
    "            DIR='/scratch/cg3306/climate/runs/G-'+str(modelnums[i])+'/'\n",
    "            num=0\n",
    "            if 'X2-train.npy' in os.listdir(DIR):\n",
    "                num+=1\n",
    "            if 'X2-val.npy' in os.listdir(DIR):\n",
    "                num+=1\n",
    "            if 'X2-test.npy' in os.listdir(DIR):\n",
    "                num+=1\n",
    "            num_iter.append(num)\n",
    "            evalflag=('MSE.npy' in os.listdir(DIR))+  ('MSE-co2.npy' in os.listdir(DIR))*2\n",
    "            eval_vals.append(evalflag)\n",
    "    return final_lrs,num_iter,eval_vals\n",
    "def select_models(C,x,conditional,offset):\n",
    "    modelnums=jobnums(C=C,x=x,offset=offset)\n",
    "    modelnums=np.array(modelnums)\n",
    "    flr,niter,evals=check_model(modelnums)\n",
    "    y=np.array([conditional(flr[i],niter[i],evals[i]) for i in range(len(flr))])\n",
    "    I=np.where(y)[0]\n",
    "    return modelnums[I]\n",
    "def report_progress(C,x,offset=5000):\n",
    "    report_short=lambda str_,I:  print(str_+':\\n'+str(I.tolist()).replace(' ',''))\n",
    "    if offset==6000:\n",
    "        Instrt=select_models(C,x,lambda x,y,z: y==0,offset)\n",
    "        Inonfinished=select_models(C,x,lambda x,y,z: y<3,offset)\n",
    "        Ifinished=select_models(C,x,lambda x,y,z: y==3,offset)\n",
    "        Istrt=select_models(C,x,lambda x,y,z: y>0,offset)\n",
    "        \n",
    "        Ieval0=select_models(C,x,lambda x,y,z: not z,offset)\n",
    "        Ieval1=select_models(C,x,lambda x,y,z: z,offset)\n",
    "        report_short('Hasnt started',Instrt)\n",
    "        report_short('Files exist',Istrt)\n",
    "        report_short('No test file',Inonfinished)\n",
    "        report_short('Test file',Ifinished)\n",
    "        report_short('Done eval',Ieval1)\n",
    "        report_short('No eval',Ieval0)\n",
    "        return\n",
    "    Instp=select_models(C,x,lambda x,y,z: x>1e-7,offset)\n",
    "    Ilate_eval=select_models(C,x,lambda x,y,z: x>1e-7 and x<1e-3 and not z,offset)\n",
    "\n",
    "    Instrt=select_models(C,x,lambda x,y,z: y==0,offset)\n",
    "    Ieval0=select_models(C,x,lambda x,y,z: (x<=1e-7) and not z,offset)\n",
    "    Ieval1=select_models(C,x,lambda x,y,z: (x<=1e-7) and z,offset)\n",
    "    Ieval0_expand=np.concatenate([Ieval0,Ieval0+500],axis=0)\n",
    "    Ilate_eval=np.concatenate([Ilate_eval,Ilate_eval+500],axis=0)\n",
    "    Instp_expand=np.concatenate([Instp,Instp+500],axis=0)\n",
    "    Inan=select_models(C,x,lambda x,y,z: np.isnan(y),offset)\n",
    "    \n",
    "    report_short('Hasnt started',Instrt)\n",
    "    report_short('Hasnt finished',Instp)\n",
    "    report_short('Nan',Inan)\n",
    "    report_short('Needs eval',Ieval0_expand)\n",
    "    report_short('Done eval',Ieval1)\n",
    "    report_short('Late eval job',Ilate_eval)"
   ]
  },
  {
   "cell_type": "code",
   "execution_count": 3,
   "id": "bf270b02",
   "metadata": {},
   "outputs": [
    {
     "data": {
      "text/plain": [
       "'configure_models(jobs)'"
      ]
     },
     "execution_count": 3,
     "metadata": {},
     "output_type": "execute_result"
    }
   ],
   "source": [
    "'''configure_models(jobs)'''"
   ]
  },
  {
   "cell_type": "code",
   "execution_count": 6,
   "id": "52daa679",
   "metadata": {},
   "outputs": [],
   "source": [
    "Test=[6003,6005,6007,6027,6028,6029,6030,6031]"
   ]
  },
  {
   "cell_type": "code",
   "execution_count": 7,
   "id": "72d2ebc1",
   "metadata": {},
   "outputs": [],
   "source": [
    "Test+=[tt+500 for tt in Test]"
   ]
  },
  {
   "cell_type": "code",
   "execution_count": 8,
   "id": "ba69b749",
   "metadata": {},
   "outputs": [
    {
     "data": {
      "text/plain": [
       "'[6003,6005,6007,6027,6028,6029,6030,6031,6503,6505,6507,6527,6528,6529,6530,6531]'"
      ]
     },
     "execution_count": 8,
     "metadata": {},
     "output_type": "execute_result"
    }
   ],
   "source": [
    "str(Test).replace(' ','')"
   ]
  },
  {
   "cell_type": "code",
   "execution_count": 9,
   "id": "d075d3e5",
   "metadata": {},
   "outputs": [
    {
     "name": "stdout",
     "output_type": "stream",
     "text": [
      "Hasnt started:\n",
      "[]\n",
      "Files exist:\n",
      "[6002,6003,6004,6005,6006,6007,6026,6027,6028,6029,6030,6031]\n",
      "No test file:\n",
      "[]\n",
      "Test file:\n",
      "[6002,6003,6004,6005,6006,6007,6026,6027,6028,6029,6030,6031]\n",
      "Done eval:\n",
      "[6002,6004,6006,6007,6026,6028,6031]\n",
      "No eval:\n",
      "[6003,6005,6027,6029,6030]\n"
     ]
    }
   ],
   "source": [
    "C=[2,1,4,3,2]\n",
    "x=[[0,1],[0],[1,2,3],[0],[0,1]]\n",
    "report_progress(C,x,offset=6000)"
   ]
  },
  {
   "cell_type": "code",
   "execution_count": 6,
   "id": "d67f1d5f",
   "metadata": {},
   "outputs": [],
   "source": [
    "jobs=jobnums(C=C,x=x,offset=6000)"
   ]
  },
  {
   "cell_type": "code",
   "execution_count": 7,
   "id": "c9ca86ff",
   "metadata": {},
   "outputs": [
    {
     "data": {
      "text/plain": [
       "[6008,\n",
       " 6009,\n",
       " 6010,\n",
       " 6011,\n",
       " 6012,\n",
       " 6013,\n",
       " 6014,\n",
       " 6015,\n",
       " 6016,\n",
       " 6017,\n",
       " 6018,\n",
       " 6019,\n",
       " 6020,\n",
       " 6021,\n",
       " 6022,\n",
       " 6023,\n",
       " 6032,\n",
       " 6033,\n",
       " 6034,\n",
       " 6035,\n",
       " 6036,\n",
       " 6037,\n",
       " 6038,\n",
       " 6039,\n",
       " 6040,\n",
       " 6041,\n",
       " 6042,\n",
       " 6043,\n",
       " 6044,\n",
       " 6045,\n",
       " 6046,\n",
       " 6047]"
      ]
     },
     "execution_count": 7,
     "metadata": {},
     "output_type": "execute_result"
    }
   ],
   "source": [
    "6003,6005,6007,6027,6028,6029,6030,6031"
   ]
  },
  {
   "cell_type": "code",
   "execution_count": 6,
   "id": "e07cd835",
   "metadata": {},
   "outputs": [
    {
     "data": {
      "text/plain": [
       "'[6008,6009,6010,6011,6012,6013,6014,6015,6016,6017,6018,6019,6020,6021,6022,6023,6032,6033,6034,6035,6036,6037,6038,6039,6040,6041,6042,6043,6044,6045,6046,6047]'"
      ]
     },
     "execution_count": 6,
     "metadata": {},
     "output_type": "execute_result"
    }
   ],
   "source": [
    "str(jobs).replace(' ','')"
   ]
  },
  {
   "cell_type": "code",
   "execution_count": 8,
   "id": "41e79496",
   "metadata": {},
   "outputs": [
    {
     "name": "stdout",
     "output_type": "stream",
     "text": [
      "Hasnt started:\n",
      "[]\n",
      "Files exist:\n",
      "[6000,6001,6002,6003,6004,6005,6006,6007,6024,6025,6026,6027,6028,6029,6030,6031]\n",
      "No test file:\n",
      "[6000,6001,6002,6003,6004,6005,6006,6007,6024,6025,6026,6027,6028,6029,6030,6031]\n",
      "Done eval:\n",
      "[]\n",
      "No eval:\n",
      "[6000,6001,6002,6003,6004,6005,6006,6007,6024,6025,6026,6027,6028,6029,6030,6031]\n"
     ]
    }
   ],
   "source": [
    "C=[2,1,4,3,2]\n",
    "x=[[0,1],[0],[0,1,2,3],[0],[0,1]]\n",
    "report_progress(C,x,offset=6000)"
   ]
  },
  {
   "cell_type": "code",
   "execution_count": null,
   "id": "13fb81cc",
   "metadata": {},
   "outputs": [],
   "source": [
    "C=[2,3,4,3,2]\n",
    "x=[[0,1],[0,2],[0,1,2,3],[2],[1]]\n",
    "report_progress(C,x)"
   ]
  },
  {
   "cell_type": "code",
   "execution_count": 11,
   "id": "e5c397c6",
   "metadata": {},
   "outputs": [
    {
     "name": "stdout",
     "output_type": "stream",
     "text": [
      "[5120,5121,5124,5125,5126,5127,5130,5131,5132,5133,5136,5137,5138,5139,5142,5143]\n",
      "5120\t\t3.90625e-05\t\t114\n",
      "5124\t\t0.0025\t\t54\n",
      "5125\t\t2.44140625e-06\t\t266\n",
      "5126\t\t6.103515625e-07\t\t262\n",
      "5130\t\t0.000625\t\t88\n"
     ]
    }
   ],
   "source": [
    "y1=jobnums(C=[2,3,4,3,2],x=[[0,1],[0,2],[0,1,2,3],[2],[1]])\n",
    "print(str(y1).replace(' ',''))\n",
    "\n",
    "modelnums=y1\n",
    "modelnums=np.array(modelnums)\n",
    "flr,niter,evals=check_model(modelnums)\n",
    "Inan=np.where(np.isnan(np.array(niter)))[0]\n",
    "Instrt=np.where(np.array(niter)==0)[0]\n",
    "Ieval=np.where(np.array(evals)==False)[0]\n",
    "Ilr=np.where(np.array(flr)<1)[0]\n",
    "Infinish=np.where(np.array(flr)>1e-7)[0]\n",
    "I=np.where((np.array(flr)>1e-7))[0]\n",
    "Iruneval=np.where(np.array(flr)<=1e-7)[0]\n",
    "for i in I:\n",
    "    print(str(modelnums[i])+'\\t\\t'+str(flr[i])+'\\t\\t'+str(niter[i]))\n",
    "#G-5 Experiment 1\n",
    "I1=modelnums[I]\n",
    "I1nstrt=modelnums[Instrt]\n",
    "I1lr=modelnums[Ilr]\n",
    "I1nan=modelnums[Inan]\n",
    "I1eval=modelnums[Ieval]\n",
    "I1nfinish=modelnums[Infinish]\n",
    "I1runeval=modelnums[Iruneval]\n",
    "I1runeval=np.concatenate([I1runeval,I1runeval+500],axis=0)"
   ]
  },
  {
   "cell_type": "code",
   "execution_count": 12,
   "id": "9d9c8675",
   "metadata": {},
   "outputs": [
    {
     "name": "stdout",
     "output_type": "stream",
     "text": [
      "[5120,5124,5125,5126,5130]\n",
      "[]\n",
      "[5120,5121,5124,5125,5126,5127,5130,5131,5132,5133,5136,5137,5138,5139,5142,5143]\n",
      "[5120,5121,5124,5125,5126,5127,5130,5131,5132,5133,5136,5137,5138,5139,5142,5143]\n",
      "[]\n",
      "[5120,5124,5125,5126,5130]\n",
      "[5121,5127,5131,5132,5133,5136,5137,5138,5139,5142,5143,5621,5627,5631,5632,5633,5636,5637,5638,5639,5642,5643]\n"
     ]
    }
   ],
   "source": [
    "print(str(I1.tolist()).replace(' ',''))\n",
    "print(str(I1nstrt.tolist()).replace(' ',''))\n",
    "print(str(I1lr.tolist()).replace(' ',''))\n",
    "print(str(I1eval.tolist()).replace(' ',''))\n",
    "print(str(I1nan.tolist()).replace(' ',''))\n",
    "print(str(I1nfinish.tolist()).replace(' ',''))\n",
    "print(str(I1runeval.tolist()).replace(' ',''))"
   ]
  },
  {
   "cell_type": "code",
   "execution_count": 3,
   "id": "31d95d31",
   "metadata": {},
   "outputs": [
    {
     "name": "stdout",
     "output_type": "stream",
     "text": [
      "[5072,5073,5074,5075,5078,5079,5080,5081,5084,5085,5086,5087,5090,5091,5092,5093]\n",
      "5072\t\t7.8125e-05\t\t201\n",
      "5074\t\t0.000625\t\t217\n"
     ]
    }
   ],
   "source": [
    "y1=jobnums(C=[2,3,4,3,2],x=[[0,1],[0,1],[0,1,2,3],[0],[1]])\n",
    "print(str(y1).replace(' ',''))\n",
    "\n",
    "modelnums=y1\n",
    "modelnums=np.array(modelnums)\n",
    "flr,niter,evals=check_model(modelnums)\n",
    "Inan=np.where(np.isnan(np.array(niter)))[0]\n",
    "Ieval=np.where(np.array(evals)==False)[0]\n",
    "I=np.where(np.array(flr)>1e-7)[0]\n",
    "for i in I:\n",
    "    print(str(modelnums[i])+'\\t\\t'+str(flr[i])+'\\t\\t'+str(niter[i]))\n",
    "#G-5 Experiment 1\n",
    "I1=modelnums[I]\n",
    "I1nan=modelnums[Inan]\n",
    "I1eval=modelnums[Ieval]"
   ]
  },
  {
   "cell_type": "code",
   "execution_count": 4,
   "id": "f7f758b1",
   "metadata": {},
   "outputs": [
    {
     "name": "stdout",
     "output_type": "stream",
     "text": [
      "[5072,5074]\n",
      "[]\n",
      "[]\n"
     ]
    }
   ],
   "source": [
    "print(str(I1.tolist()).replace(' ',''))\n",
    "print(str(I1eval.tolist()).replace(' ',''))\n",
    "print(str(I1nan.tolist()).replace(' ',''))"
   ]
  },
  {
   "cell_type": "code",
   "execution_count": 5,
   "id": "c6a82fb4",
   "metadata": {
    "scrolled": true
   },
   "outputs": [
    {
     "data": {
      "text/plain": [
       "'[5072,5073,5074,5075,5078,5079,5080,5081,5084,5085,5086,5087,5090,5091,5092,5093,5572,5573,5574,5575,5578,5579,5580,5581,5584,5585,5586,5587,5590,5591,5592,5593]'"
      ]
     },
     "execution_count": 5,
     "metadata": {},
     "output_type": "execute_result"
    }
   ],
   "source": [
    "str(y1+[y+500 for y in y1]).replace(' ','')"
   ]
  },
  {
   "cell_type": "code",
   "execution_count": 16,
   "id": "29d16c39",
   "metadata": {},
   "outputs": [
    {
     "name": "stdout",
     "output_type": "stream",
     "text": [
      "[5120,5121,5124,5125,5126,5127,5130,5131,5132,5133,5136,5137,5138,5139,5142,5143]\n",
      "5120\t\t1\t\t0\n",
      "5121\t\t1\t\t0\n",
      "5124\t\t1\t\t0\n",
      "5125\t\t1\t\t0\n",
      "5126\t\t1\t\t0\n",
      "5127\t\t1\t\t0\n",
      "5130\t\t1\t\t0\n",
      "5131\t\t1\t\t0\n",
      "5132\t\t1\t\t0\n",
      "5133\t\t1\t\t0\n",
      "5136\t\t1\t\t0\n",
      "5137\t\t1\t\t0\n",
      "5138\t\t1\t\t0\n",
      "5139\t\t1\t\t0\n",
      "5142\t\t1\t\t0\n",
      "5143\t\t1\t\t0\n"
     ]
    }
   ],
   "source": [
    "y1=jobnums(C=[2,3,4,3,2],x=[[0,1],[0,2],[0,1,2,3],[2],[1]])\n",
    "print(str(y1).replace(' ',''))\n",
    "\n",
    "modelnums=y1\n",
    "modelnums=np.array(modelnums)\n",
    "flr,niter,evals=check_model(modelnums)\n",
    "Inan=np.where(np.isnan(np.array(niter)))[0]\n",
    "Ieval=np.where(np.array(evals)==False)[0]\n",
    "I=np.where(np.array(flr)>1e-7)[0]\n",
    "for i in I:\n",
    "    print(str(modelnums[i])+'\\t\\t'+str(flr[i])+'\\t\\t'+str(niter[i]))\n",
    "#G-5 Experiment 1\n",
    "I1=modelnums[I]\n",
    "I1nan=modelnums[Inan]\n",
    "I1eval=modelnums[Ieval]"
   ]
  },
  {
   "cell_type": "code",
   "execution_count": 7,
   "id": "82b0d93c",
   "metadata": {},
   "outputs": [
    {
     "data": {
      "text/plain": [
       "'[5096,5097,5098,5099,5100,5101,5102,5103,5104,5105,5106,5107,5108,5109,5110,5111,5112,5113,5114,5115,5116,5117,5118,5119,5596,5597,5598,5599,5600,5601,5602,5603,5604,5605,5606,5607,5608,5609,5610,5611,5612,5613,5614,5615,5616,5617,5618,5619]'"
      ]
     },
     "execution_count": 7,
     "metadata": {},
     "output_type": "execute_result"
    }
   ],
   "source": [
    "str(y1+[y+500 for y in y1]).replace(' ','')"
   ]
  },
  {
   "cell_type": "code",
   "execution_count": 8,
   "id": "ea38f346",
   "metadata": {},
   "outputs": [
    {
     "name": "stdout",
     "output_type": "stream",
     "text": [
      "[5096,5098,5100,5106]\n",
      "[]\n",
      "[]\n"
     ]
    }
   ],
   "source": [
    "print(str(I1.tolist()).replace(' ',''))\n",
    "print(str((I1eval).tolist()).replace(' ',''))\n",
    "print(str(I1nan.tolist()).replace(' ',''))"
   ]
  },
  {
   "cell_type": "code",
   "execution_count": 9,
   "id": "cc7a8fc3",
   "metadata": {
    "scrolled": true
   },
   "outputs": [
    {
     "data": {
      "text/plain": [
       "'[5096,5097,5098,5099,5100,5101,5102,5103,5104,5105,5106,5107,5108,5109,5110,5111,5112,5113,5114,5115,5116,5117,5118,5119]'"
      ]
     },
     "execution_count": 9,
     "metadata": {},
     "output_type": "execute_result"
    }
   ],
   "source": [
    "y=jobnums(C=[2,3,4,3,2],x=[[0,1],[0,1,2],[0,1,2,3],[1],[1]])\n",
    "str(y).replace(' ','')"
   ]
  },
  {
   "cell_type": "code",
   "execution_count": 11,
   "id": "47ee41ff",
   "metadata": {},
   "outputs": [
    {
     "ename": "ValueError",
     "evalue": "too many values to unpack (expected 2)",
     "output_type": "error",
     "traceback": [
      "\u001b[0;31m---------------------------------------------------------------------------\u001b[0m",
      "\u001b[0;31mValueError\u001b[0m                                Traceback (most recent call last)",
      "\u001b[0;32m<ipython-input-11-225e94de6c2b>\u001b[0m in \u001b[0;36m<module>\u001b[0;34m\u001b[0m\n\u001b[1;32m      4\u001b[0m                 5060,5061,5064,5065,5066,5067,5070,5071]\n\u001b[1;32m      5\u001b[0m \u001b[0mmodelnums\u001b[0m\u001b[0;34m=\u001b[0m\u001b[0mnp\u001b[0m\u001b[0;34m.\u001b[0m\u001b[0marray\u001b[0m\u001b[0;34m(\u001b[0m\u001b[0mmodelnums\u001b[0m\u001b[0;34m)\u001b[0m\u001b[0;34m\u001b[0m\u001b[0;34m\u001b[0m\u001b[0m\n\u001b[0;32m----> 6\u001b[0;31m \u001b[0mflr\u001b[0m\u001b[0;34m,\u001b[0m\u001b[0mniter\u001b[0m\u001b[0;34m=\u001b[0m\u001b[0mcheck_model\u001b[0m\u001b[0;34m(\u001b[0m\u001b[0mmodelnums\u001b[0m\u001b[0;34m)\u001b[0m\u001b[0;34m\u001b[0m\u001b[0;34m\u001b[0m\u001b[0m\n\u001b[0m\u001b[1;32m      7\u001b[0m \u001b[0mInan\u001b[0m\u001b[0;34m=\u001b[0m\u001b[0mnp\u001b[0m\u001b[0;34m.\u001b[0m\u001b[0mwhere\u001b[0m\u001b[0;34m(\u001b[0m\u001b[0mnp\u001b[0m\u001b[0;34m.\u001b[0m\u001b[0misnan\u001b[0m\u001b[0;34m(\u001b[0m\u001b[0mnp\u001b[0m\u001b[0;34m.\u001b[0m\u001b[0marray\u001b[0m\u001b[0;34m(\u001b[0m\u001b[0mniter\u001b[0m\u001b[0;34m)\u001b[0m\u001b[0;34m)\u001b[0m\u001b[0;34m)\u001b[0m\u001b[0;34m[\u001b[0m\u001b[0;36m0\u001b[0m\u001b[0;34m]\u001b[0m\u001b[0;34m\u001b[0m\u001b[0;34m\u001b[0m\u001b[0m\n\u001b[1;32m      8\u001b[0m \u001b[0mI\u001b[0m\u001b[0;34m=\u001b[0m\u001b[0mnp\u001b[0m\u001b[0;34m.\u001b[0m\u001b[0mwhere\u001b[0m\u001b[0;34m(\u001b[0m\u001b[0mnp\u001b[0m\u001b[0;34m.\u001b[0m\u001b[0marray\u001b[0m\u001b[0;34m(\u001b[0m\u001b[0mflr\u001b[0m\u001b[0;34m)\u001b[0m\u001b[0;34m>\u001b[0m\u001b[0;36m1e-7\u001b[0m\u001b[0;34m)\u001b[0m\u001b[0;34m[\u001b[0m\u001b[0;36m0\u001b[0m\u001b[0;34m]\u001b[0m\u001b[0;34m\u001b[0m\u001b[0;34m\u001b[0m\u001b[0m\n",
      "\u001b[0;31mValueError\u001b[0m: too many values to unpack (expected 2)"
     ]
    }
   ],
   "source": [
    "#G-5 Experiment 2\n",
    "modelnums=[5024,5025,5026,5027,5028,5029,5030,5031,5032,5033,5034,5035,5036,5037,5038,5039,\\\n",
    "                5040,5041,5042,5043,5044,5045,5046,5047,5048,5049,5052,5053,5054,5055,5058,5059,\\\n",
    "                5060,5061,5064,5065,5066,5067,5070,5071]\n",
    "modelnums=np.array(modelnums)\n",
    "flr,niter=check_model(modelnums)\n",
    "Inan=np.where(np.isnan(np.array(niter)))[0]\n",
    "I=np.where(np.array(flr)>1e-7)[0]\n",
    "for i in I:\n",
    "    print(str(modelnums[i])+'\\t\\t'+str(flr[i])+'\\t\\t'+str(niter[i]))\n",
    "#G-5 Experiment 1\n",
    "I1=modelnums[I]\n",
    "I1nan=modelnums[Inan]\n",
    "modelnums=[5000,5001,5002,5003,5006,5007,5008,5009,5012,5013,5014,5015,5018,5019,5020,5021]\n",
    "modelnums=np.array(modelnums)\n",
    "flr,niter=check_model(modelnums)\n",
    "\n",
    "Inan=np.where(np.isnan(np.array(niter)))[0]\n",
    "I=np.where(np.array(flr)>1e-7)[0]\n",
    "I1=np.concatenate([modelnums[I],I1],axis=0)\n",
    "I1nan=np.concatenate([modelnums[Inan],I1nan],axis=0)\n",
    "for i in I:\n",
    "    print(str(modelnums[i])+'\\t\\t'+str(flr[i])+'\\t\\t'+str(niter[i]))"
   ]
  },
  {
   "cell_type": "code",
   "execution_count": 12,
   "id": "863aa0cf",
   "metadata": {},
   "outputs": [
    {
     "data": {
      "text/plain": [
       "'[5096,5098,5100,5106]'"
      ]
     },
     "execution_count": 12,
     "metadata": {},
     "output_type": "execute_result"
    }
   ],
   "source": [
    "str(I1.tolist()).replace(' ','')"
   ]
  },
  {
   "cell_type": "code",
   "execution_count": 5,
   "id": "0c386fed",
   "metadata": {},
   "outputs": [
    {
     "data": {
      "text/plain": [
       "'[5026]'"
      ]
     },
     "execution_count": 5,
     "metadata": {},
     "output_type": "execute_result"
    }
   ],
   "source": [
    "str(I1nan.tolist()).replace(' ','')"
   ]
  },
  {
   "cell_type": "code",
   "execution_count": 12,
   "id": "013aa120",
   "metadata": {},
   "outputs": [
    {
     "data": {
      "text/plain": [
       "'[]'"
      ]
     },
     "execution_count": 12,
     "metadata": {},
     "output_type": "execute_result"
    }
   ],
   "source": [
    "str(np.array(modelnums)[np.where((np.array(niter)==0) + (np.array(niter)==np.nan))[0]].tolist()).replace(' ','')"
   ]
  },
  {
   "cell_type": "code",
   "execution_count": 17,
   "id": "2041ab57",
   "metadata": {},
   "outputs": [],
   "source": [
    "outputs=['Su','Sv','ST']"
   ]
  },
  {
   "cell_type": "code",
   "execution_count": 18,
   "id": "35f71844",
   "metadata": {},
   "outputs": [
    {
     "name": "stdout",
     "output_type": "stream",
     "text": [
      "True\n"
     ]
    }
   ],
   "source": [
    "print(outputs[0]=='Su')"
   ]
  },
  {
   "cell_type": "code",
   "execution_count": null,
   "id": "e388eb40",
   "metadata": {},
   "outputs": [],
   "source": []
  }
 ],
 "metadata": {
  "kernelspec": {
   "display_name": "Python 3",
   "language": "python",
   "name": "python3"
  },
  "language_info": {
   "codemirror_mode": {
    "name": "ipython",
    "version": 3
   },
   "file_extension": ".py",
   "mimetype": "text/x-python",
   "name": "python",
   "nbconvert_exporter": "python",
   "pygments_lexer": "ipython3",
   "version": "3.8.5"
  }
 },
 "nbformat": 4,
 "nbformat_minor": 5
}
